{
 "cells": [
  {
   "cell_type": "markdown",
   "id": "25c9b879",
   "metadata": {},
   "source": [
    "# Algerian Forest Fires Dataset - Data Analysis and Linear Regression Model Building\n",
    "#Problem statement\n",
    "\n",
    "Here is algerian dataset which has attributes Attribute Information:\n",
    "\n",
    "Date : (DD/MM/YYYY) Day, month ('june' to 'september'), year (2012)\n",
    "Weather data observations\n",
    "\n",
    "Temp : temperature noon (temperature max) in Celsius degrees: 22 to 42\n",
    "\n",
    "RH : Relative Humidity in %: 21 to 90\n",
    "\n",
    "Ws :Wind speed in km/h: 6 to 29\n",
    "\n",
    "Rain: total day in mm: 0 to 16.8\n",
    "\n",
    "FWI Components\n",
    "\n",
    "Fine Fuel Moisture Code (FFMC) index from the FWI system: 28.6 to 92.5\n",
    "\n",
    "Duff Moisture Code (DMC) index from the FWI system: 1.1 to 65.9\n",
    "\n",
    "Drought Code (DC) index from the FWI system: 7 to 220.4\n",
    "\n",
    "Initial Spread Index (ISI) index from the FWI system: 0 to 18.5\n",
    "\n",
    "Buildup Index (BUI) index from the FWI system: 1.1 to 68\n",
    "\n",
    "Fire Weather Index (FWI) Index: 0 to 31.1\n",
    "\n",
    "Classes: two classes, namely Fire and not Fire\n",
    "\n",
    "We need to find the temprature as based on the other conditions.\n",
    "\n",
    "We have to perform :-\n",
    "Data Collection\n",
    "Exploratory Data Analysis\n",
    "Data Cleaning\n",
    "Model Building\n",
    "Model Predictions"
   ]
  },
  {
   "cell_type": "code",
   "execution_count": 1,
   "id": "fcbb9932",
   "metadata": {},
   "outputs": [],
   "source": [
    "#Importing Pandas, Numpy, Matplotlib, Seaborn and Warings Library.\n",
    "import pandas as pd\n",
    "import numpy as np\n",
    "import seaborn as sns\n",
    "import matplotlib.pyplot as plt\n",
    "import plotly.express as px\n",
    "import warnings\n",
    "\n",
    "\n",
    "warnings.filterwarnings(\"ignore\")\n",
    "\n",
    "%matplotlib inline"
   ]
  },
  {
   "cell_type": "code",
   "execution_count": 2,
   "id": "30ce4d59",
   "metadata": {},
   "outputs": [
    {
     "data": {
      "text/html": [
       "<div>\n",
       "<style scoped>\n",
       "    .dataframe tbody tr th:only-of-type {\n",
       "        vertical-align: middle;\n",
       "    }\n",
       "\n",
       "    .dataframe tbody tr th {\n",
       "        vertical-align: top;\n",
       "    }\n",
       "\n",
       "    .dataframe thead th {\n",
       "        text-align: right;\n",
       "    }\n",
       "</style>\n",
       "<table border=\"1\" class=\"dataframe\">\n",
       "  <thead>\n",
       "    <tr style=\"text-align: right;\">\n",
       "      <th></th>\n",
       "      <th>day</th>\n",
       "      <th>month</th>\n",
       "      <th>year</th>\n",
       "      <th>Temperature</th>\n",
       "      <th>RH</th>\n",
       "      <th>Ws</th>\n",
       "      <th>Rain</th>\n",
       "      <th>FFMC</th>\n",
       "      <th>DMC</th>\n",
       "      <th>DC</th>\n",
       "      <th>ISI</th>\n",
       "      <th>BUI</th>\n",
       "      <th>FWI</th>\n",
       "      <th>Classes</th>\n",
       "    </tr>\n",
       "  </thead>\n",
       "  <tbody>\n",
       "    <tr>\n",
       "      <th>0</th>\n",
       "      <td>01</td>\n",
       "      <td>06</td>\n",
       "      <td>2012</td>\n",
       "      <td>29</td>\n",
       "      <td>57</td>\n",
       "      <td>18</td>\n",
       "      <td>0</td>\n",
       "      <td>65.7</td>\n",
       "      <td>3.4</td>\n",
       "      <td>7.6</td>\n",
       "      <td>1.3</td>\n",
       "      <td>3.4</td>\n",
       "      <td>0.5</td>\n",
       "      <td>not fire</td>\n",
       "    </tr>\n",
       "    <tr>\n",
       "      <th>1</th>\n",
       "      <td>02</td>\n",
       "      <td>06</td>\n",
       "      <td>2012</td>\n",
       "      <td>29</td>\n",
       "      <td>61</td>\n",
       "      <td>13</td>\n",
       "      <td>1.3</td>\n",
       "      <td>64.4</td>\n",
       "      <td>4.1</td>\n",
       "      <td>7.6</td>\n",
       "      <td>1</td>\n",
       "      <td>3.9</td>\n",
       "      <td>0.4</td>\n",
       "      <td>not fire</td>\n",
       "    </tr>\n",
       "    <tr>\n",
       "      <th>2</th>\n",
       "      <td>03</td>\n",
       "      <td>06</td>\n",
       "      <td>2012</td>\n",
       "      <td>26</td>\n",
       "      <td>82</td>\n",
       "      <td>22</td>\n",
       "      <td>13.1</td>\n",
       "      <td>47.1</td>\n",
       "      <td>2.5</td>\n",
       "      <td>7.1</td>\n",
       "      <td>0.3</td>\n",
       "      <td>2.7</td>\n",
       "      <td>0.1</td>\n",
       "      <td>not fire</td>\n",
       "    </tr>\n",
       "    <tr>\n",
       "      <th>3</th>\n",
       "      <td>04</td>\n",
       "      <td>06</td>\n",
       "      <td>2012</td>\n",
       "      <td>25</td>\n",
       "      <td>89</td>\n",
       "      <td>13</td>\n",
       "      <td>2.5</td>\n",
       "      <td>28.6</td>\n",
       "      <td>1.3</td>\n",
       "      <td>6.9</td>\n",
       "      <td>0</td>\n",
       "      <td>1.7</td>\n",
       "      <td>0</td>\n",
       "      <td>not fire</td>\n",
       "    </tr>\n",
       "    <tr>\n",
       "      <th>4</th>\n",
       "      <td>05</td>\n",
       "      <td>06</td>\n",
       "      <td>2012</td>\n",
       "      <td>27</td>\n",
       "      <td>77</td>\n",
       "      <td>16</td>\n",
       "      <td>0</td>\n",
       "      <td>64.8</td>\n",
       "      <td>3</td>\n",
       "      <td>14.2</td>\n",
       "      <td>1.2</td>\n",
       "      <td>3.9</td>\n",
       "      <td>0.5</td>\n",
       "      <td>not fire</td>\n",
       "    </tr>\n",
       "  </tbody>\n",
       "</table>\n",
       "</div>"
      ],
      "text/plain": [
       "  day month  year Temperature  RH  Ws Rain   FFMC  DMC    DC  ISI  BUI  FWI  \\\n",
       "0  01    06  2012          29  57  18     0  65.7  3.4   7.6  1.3  3.4  0.5   \n",
       "1  02    06  2012          29  61  13   1.3  64.4  4.1   7.6    1  3.9  0.4   \n",
       "2  03    06  2012          26  82  22  13.1  47.1  2.5   7.1  0.3  2.7  0.1   \n",
       "3  04    06  2012          25  89  13   2.5  28.6  1.3   6.9    0  1.7    0   \n",
       "4  05    06  2012          27  77  16     0  64.8    3  14.2  1.2  3.9  0.5   \n",
       "\n",
       "     Classes    \n",
       "0  not fire     \n",
       "1  not fire     \n",
       "2  not fire     \n",
       "3  not fire     \n",
       "4  not fire     "
      ]
     },
     "execution_count": 2,
     "metadata": {},
     "output_type": "execute_result"
    }
   ],
   "source": [
    "#Reading the data\n",
    "df = pd.read_csv('Algerian_forest_fires_dataset_UPDATE.csv',header=1)\n",
    "df.head()"
   ]
  },
  {
   "cell_type": "code",
   "execution_count": 3,
   "id": "c80e5dd2",
   "metadata": {},
   "outputs": [
    {
     "data": {
      "text/html": [
       "<div>\n",
       "<style scoped>\n",
       "    .dataframe tbody tr th:only-of-type {\n",
       "        vertical-align: middle;\n",
       "    }\n",
       "\n",
       "    .dataframe tbody tr th {\n",
       "        vertical-align: top;\n",
       "    }\n",
       "\n",
       "    .dataframe thead th {\n",
       "        text-align: right;\n",
       "    }\n",
       "</style>\n",
       "<table border=\"1\" class=\"dataframe\">\n",
       "  <thead>\n",
       "    <tr style=\"text-align: right;\">\n",
       "      <th></th>\n",
       "      <th>day</th>\n",
       "      <th>month</th>\n",
       "      <th>year</th>\n",
       "      <th>Temperature</th>\n",
       "      <th>RH</th>\n",
       "      <th>Ws</th>\n",
       "      <th>Rain</th>\n",
       "      <th>FFMC</th>\n",
       "      <th>DMC</th>\n",
       "      <th>DC</th>\n",
       "      <th>ISI</th>\n",
       "      <th>BUI</th>\n",
       "      <th>FWI</th>\n",
       "      <th>Classes</th>\n",
       "    </tr>\n",
       "  </thead>\n",
       "  <tbody>\n",
       "    <tr>\n",
       "      <th>241</th>\n",
       "      <td>26</td>\n",
       "      <td>09</td>\n",
       "      <td>2012</td>\n",
       "      <td>30</td>\n",
       "      <td>65</td>\n",
       "      <td>14</td>\n",
       "      <td>0</td>\n",
       "      <td>85.4</td>\n",
       "      <td>16</td>\n",
       "      <td>44.5</td>\n",
       "      <td>4.5</td>\n",
       "      <td>16.9</td>\n",
       "      <td>6.5</td>\n",
       "      <td>fire</td>\n",
       "    </tr>\n",
       "    <tr>\n",
       "      <th>242</th>\n",
       "      <td>27</td>\n",
       "      <td>09</td>\n",
       "      <td>2012</td>\n",
       "      <td>28</td>\n",
       "      <td>87</td>\n",
       "      <td>15</td>\n",
       "      <td>4.4</td>\n",
       "      <td>41.1</td>\n",
       "      <td>6.5</td>\n",
       "      <td>8</td>\n",
       "      <td>0.1</td>\n",
       "      <td>6.2</td>\n",
       "      <td>0</td>\n",
       "      <td>not fire</td>\n",
       "    </tr>\n",
       "    <tr>\n",
       "      <th>243</th>\n",
       "      <td>28</td>\n",
       "      <td>09</td>\n",
       "      <td>2012</td>\n",
       "      <td>27</td>\n",
       "      <td>87</td>\n",
       "      <td>29</td>\n",
       "      <td>0.5</td>\n",
       "      <td>45.9</td>\n",
       "      <td>3.5</td>\n",
       "      <td>7.9</td>\n",
       "      <td>0.4</td>\n",
       "      <td>3.4</td>\n",
       "      <td>0.2</td>\n",
       "      <td>not fire</td>\n",
       "    </tr>\n",
       "    <tr>\n",
       "      <th>244</th>\n",
       "      <td>29</td>\n",
       "      <td>09</td>\n",
       "      <td>2012</td>\n",
       "      <td>24</td>\n",
       "      <td>54</td>\n",
       "      <td>18</td>\n",
       "      <td>0.1</td>\n",
       "      <td>79.7</td>\n",
       "      <td>4.3</td>\n",
       "      <td>15.2</td>\n",
       "      <td>1.7</td>\n",
       "      <td>5.1</td>\n",
       "      <td>0.7</td>\n",
       "      <td>not fire</td>\n",
       "    </tr>\n",
       "    <tr>\n",
       "      <th>245</th>\n",
       "      <td>30</td>\n",
       "      <td>09</td>\n",
       "      <td>2012</td>\n",
       "      <td>24</td>\n",
       "      <td>64</td>\n",
       "      <td>15</td>\n",
       "      <td>0.2</td>\n",
       "      <td>67.3</td>\n",
       "      <td>3.8</td>\n",
       "      <td>16.5</td>\n",
       "      <td>1.2</td>\n",
       "      <td>4.8</td>\n",
       "      <td>0.5</td>\n",
       "      <td>not fire</td>\n",
       "    </tr>\n",
       "  </tbody>\n",
       "</table>\n",
       "</div>"
      ],
      "text/plain": [
       "    day month  year Temperature  RH  Ws Rain   FFMC  DMC    DC  ISI   BUI  \\\n",
       "241  26    09  2012          30  65  14     0  85.4   16  44.5  4.5  16.9   \n",
       "242  27    09  2012          28  87  15   4.4  41.1  6.5     8  0.1   6.2   \n",
       "243  28    09  2012          27  87  29   0.5  45.9  3.5   7.9  0.4   3.4   \n",
       "244  29    09  2012          24  54  18   0.1  79.7  4.3  15.2  1.7   5.1   \n",
       "245  30    09  2012          24  64  15   0.2  67.3  3.8  16.5  1.2   4.8   \n",
       "\n",
       "     FWI     Classes    \n",
       "241  6.5       fire     \n",
       "242    0   not fire     \n",
       "243  0.2   not fire     \n",
       "244  0.7   not fire     \n",
       "245  0.5  not fire      "
      ]
     },
     "execution_count": 3,
     "metadata": {},
     "output_type": "execute_result"
    }
   ],
   "source": [
    "df.tail()"
   ]
  },
  {
   "cell_type": "code",
   "execution_count": 4,
   "id": "b1b7c008",
   "metadata": {},
   "outputs": [
    {
     "data": {
      "text/plain": [
       "Index(['day', 'month', 'year', 'Temperature', ' RH', ' Ws', 'Rain ', 'FFMC',\n",
       "       'DMC', 'DC', 'ISI', 'BUI', 'FWI', 'Classes  '],\n",
       "      dtype='object')"
      ]
     },
     "execution_count": 4,
     "metadata": {},
     "output_type": "execute_result"
    }
   ],
   "source": [
    "df.columns"
   ]
  },
  {
   "cell_type": "code",
   "execution_count": 5,
   "id": "95a05b86",
   "metadata": {},
   "outputs": [
    {
     "data": {
      "text/plain": [
       "Index(['day', 'month', 'year', 'Temperature', 'RH', 'Ws', 'Rain', 'FFMC',\n",
       "       'DMC', 'DC', 'ISI', 'BUI', 'FWI', 'Classes'],\n",
       "      dtype='object')"
      ]
     },
     "execution_count": 5,
     "metadata": {},
     "output_type": "execute_result"
    }
   ],
   "source": [
    "#Stripping the names of the columns\n",
    "df.columns = [i.strip() for i in df.columns]\n",
    "df.columns"
   ]
  },
  {
   "cell_type": "markdown",
   "id": "040d7dc8",
   "metadata": {},
   "source": [
    "# understanding the dataset"
   ]
  },
  {
   "cell_type": "code",
   "execution_count": 6,
   "id": "ddf08d82",
   "metadata": {},
   "outputs": [
    {
     "data": {
      "text/html": [
       "<div>\n",
       "<style scoped>\n",
       "    .dataframe tbody tr th:only-of-type {\n",
       "        vertical-align: middle;\n",
       "    }\n",
       "\n",
       "    .dataframe tbody tr th {\n",
       "        vertical-align: top;\n",
       "    }\n",
       "\n",
       "    .dataframe thead th {\n",
       "        text-align: right;\n",
       "    }\n",
       "</style>\n",
       "<table border=\"1\" class=\"dataframe\">\n",
       "  <thead>\n",
       "    <tr style=\"text-align: right;\">\n",
       "      <th></th>\n",
       "      <th>day</th>\n",
       "      <th>month</th>\n",
       "      <th>year</th>\n",
       "      <th>Temperature</th>\n",
       "      <th>RH</th>\n",
       "      <th>Ws</th>\n",
       "      <th>Rain</th>\n",
       "      <th>FFMC</th>\n",
       "      <th>DMC</th>\n",
       "      <th>DC</th>\n",
       "      <th>ISI</th>\n",
       "      <th>BUI</th>\n",
       "      <th>FWI</th>\n",
       "      <th>Classes</th>\n",
       "    </tr>\n",
       "  </thead>\n",
       "  <tbody>\n",
       "    <tr>\n",
       "      <th>0</th>\n",
       "      <td>01</td>\n",
       "      <td>06</td>\n",
       "      <td>2012</td>\n",
       "      <td>29</td>\n",
       "      <td>57</td>\n",
       "      <td>18</td>\n",
       "      <td>0</td>\n",
       "      <td>65.7</td>\n",
       "      <td>3.4</td>\n",
       "      <td>7.6</td>\n",
       "      <td>1.3</td>\n",
       "      <td>3.4</td>\n",
       "      <td>0.5</td>\n",
       "      <td>not fire</td>\n",
       "    </tr>\n",
       "    <tr>\n",
       "      <th>1</th>\n",
       "      <td>02</td>\n",
       "      <td>06</td>\n",
       "      <td>2012</td>\n",
       "      <td>29</td>\n",
       "      <td>61</td>\n",
       "      <td>13</td>\n",
       "      <td>1.3</td>\n",
       "      <td>64.4</td>\n",
       "      <td>4.1</td>\n",
       "      <td>7.6</td>\n",
       "      <td>1</td>\n",
       "      <td>3.9</td>\n",
       "      <td>0.4</td>\n",
       "      <td>not fire</td>\n",
       "    </tr>\n",
       "    <tr>\n",
       "      <th>2</th>\n",
       "      <td>03</td>\n",
       "      <td>06</td>\n",
       "      <td>2012</td>\n",
       "      <td>26</td>\n",
       "      <td>82</td>\n",
       "      <td>22</td>\n",
       "      <td>13.1</td>\n",
       "      <td>47.1</td>\n",
       "      <td>2.5</td>\n",
       "      <td>7.1</td>\n",
       "      <td>0.3</td>\n",
       "      <td>2.7</td>\n",
       "      <td>0.1</td>\n",
       "      <td>not fire</td>\n",
       "    </tr>\n",
       "    <tr>\n",
       "      <th>3</th>\n",
       "      <td>04</td>\n",
       "      <td>06</td>\n",
       "      <td>2012</td>\n",
       "      <td>25</td>\n",
       "      <td>89</td>\n",
       "      <td>13</td>\n",
       "      <td>2.5</td>\n",
       "      <td>28.6</td>\n",
       "      <td>1.3</td>\n",
       "      <td>6.9</td>\n",
       "      <td>0</td>\n",
       "      <td>1.7</td>\n",
       "      <td>0</td>\n",
       "      <td>not fire</td>\n",
       "    </tr>\n",
       "    <tr>\n",
       "      <th>4</th>\n",
       "      <td>05</td>\n",
       "      <td>06</td>\n",
       "      <td>2012</td>\n",
       "      <td>27</td>\n",
       "      <td>77</td>\n",
       "      <td>16</td>\n",
       "      <td>0</td>\n",
       "      <td>64.8</td>\n",
       "      <td>3</td>\n",
       "      <td>14.2</td>\n",
       "      <td>1.2</td>\n",
       "      <td>3.9</td>\n",
       "      <td>0.5</td>\n",
       "      <td>not fire</td>\n",
       "    </tr>\n",
       "  </tbody>\n",
       "</table>\n",
       "</div>"
      ],
      "text/plain": [
       "  day month  year Temperature  RH  Ws  Rain  FFMC  DMC    DC  ISI  BUI  FWI  \\\n",
       "0  01    06  2012          29  57  18     0  65.7  3.4   7.6  1.3  3.4  0.5   \n",
       "1  02    06  2012          29  61  13   1.3  64.4  4.1   7.6    1  3.9  0.4   \n",
       "2  03    06  2012          26  82  22  13.1  47.1  2.5   7.1  0.3  2.7  0.1   \n",
       "3  04    06  2012          25  89  13   2.5  28.6  1.3   6.9    0  1.7    0   \n",
       "4  05    06  2012          27  77  16     0  64.8    3  14.2  1.2  3.9  0.5   \n",
       "\n",
       "       Classes  \n",
       "0  not fire     \n",
       "1  not fire     \n",
       "2  not fire     \n",
       "3  not fire     \n",
       "4  not fire     "
      ]
     },
     "execution_count": 6,
     "metadata": {},
     "output_type": "execute_result"
    }
   ],
   "source": [
    "#displaying first 5 rows of dataset\n",
    "df.head()"
   ]
  },
  {
   "cell_type": "code",
   "execution_count": 7,
   "id": "436e3d65",
   "metadata": {},
   "outputs": [
    {
     "data": {
      "text/html": [
       "<div>\n",
       "<style scoped>\n",
       "    .dataframe tbody tr th:only-of-type {\n",
       "        vertical-align: middle;\n",
       "    }\n",
       "\n",
       "    .dataframe tbody tr th {\n",
       "        vertical-align: top;\n",
       "    }\n",
       "\n",
       "    .dataframe thead th {\n",
       "        text-align: right;\n",
       "    }\n",
       "</style>\n",
       "<table border=\"1\" class=\"dataframe\">\n",
       "  <thead>\n",
       "    <tr style=\"text-align: right;\">\n",
       "      <th></th>\n",
       "      <th>day</th>\n",
       "      <th>month</th>\n",
       "      <th>year</th>\n",
       "      <th>Temperature</th>\n",
       "      <th>RH</th>\n",
       "      <th>Ws</th>\n",
       "      <th>Rain</th>\n",
       "      <th>FFMC</th>\n",
       "      <th>DMC</th>\n",
       "      <th>DC</th>\n",
       "      <th>ISI</th>\n",
       "      <th>BUI</th>\n",
       "      <th>FWI</th>\n",
       "      <th>Classes</th>\n",
       "    </tr>\n",
       "  </thead>\n",
       "  <tbody>\n",
       "    <tr>\n",
       "      <th>241</th>\n",
       "      <td>26</td>\n",
       "      <td>09</td>\n",
       "      <td>2012</td>\n",
       "      <td>30</td>\n",
       "      <td>65</td>\n",
       "      <td>14</td>\n",
       "      <td>0</td>\n",
       "      <td>85.4</td>\n",
       "      <td>16</td>\n",
       "      <td>44.5</td>\n",
       "      <td>4.5</td>\n",
       "      <td>16.9</td>\n",
       "      <td>6.5</td>\n",
       "      <td>fire</td>\n",
       "    </tr>\n",
       "    <tr>\n",
       "      <th>242</th>\n",
       "      <td>27</td>\n",
       "      <td>09</td>\n",
       "      <td>2012</td>\n",
       "      <td>28</td>\n",
       "      <td>87</td>\n",
       "      <td>15</td>\n",
       "      <td>4.4</td>\n",
       "      <td>41.1</td>\n",
       "      <td>6.5</td>\n",
       "      <td>8</td>\n",
       "      <td>0.1</td>\n",
       "      <td>6.2</td>\n",
       "      <td>0</td>\n",
       "      <td>not fire</td>\n",
       "    </tr>\n",
       "    <tr>\n",
       "      <th>243</th>\n",
       "      <td>28</td>\n",
       "      <td>09</td>\n",
       "      <td>2012</td>\n",
       "      <td>27</td>\n",
       "      <td>87</td>\n",
       "      <td>29</td>\n",
       "      <td>0.5</td>\n",
       "      <td>45.9</td>\n",
       "      <td>3.5</td>\n",
       "      <td>7.9</td>\n",
       "      <td>0.4</td>\n",
       "      <td>3.4</td>\n",
       "      <td>0.2</td>\n",
       "      <td>not fire</td>\n",
       "    </tr>\n",
       "    <tr>\n",
       "      <th>244</th>\n",
       "      <td>29</td>\n",
       "      <td>09</td>\n",
       "      <td>2012</td>\n",
       "      <td>24</td>\n",
       "      <td>54</td>\n",
       "      <td>18</td>\n",
       "      <td>0.1</td>\n",
       "      <td>79.7</td>\n",
       "      <td>4.3</td>\n",
       "      <td>15.2</td>\n",
       "      <td>1.7</td>\n",
       "      <td>5.1</td>\n",
       "      <td>0.7</td>\n",
       "      <td>not fire</td>\n",
       "    </tr>\n",
       "    <tr>\n",
       "      <th>245</th>\n",
       "      <td>30</td>\n",
       "      <td>09</td>\n",
       "      <td>2012</td>\n",
       "      <td>24</td>\n",
       "      <td>64</td>\n",
       "      <td>15</td>\n",
       "      <td>0.2</td>\n",
       "      <td>67.3</td>\n",
       "      <td>3.8</td>\n",
       "      <td>16.5</td>\n",
       "      <td>1.2</td>\n",
       "      <td>4.8</td>\n",
       "      <td>0.5</td>\n",
       "      <td>not fire</td>\n",
       "    </tr>\n",
       "  </tbody>\n",
       "</table>\n",
       "</div>"
      ],
      "text/plain": [
       "    day month  year Temperature  RH  Ws Rain  FFMC  DMC    DC  ISI   BUI  FWI  \\\n",
       "241  26    09  2012          30  65  14    0  85.4   16  44.5  4.5  16.9  6.5   \n",
       "242  27    09  2012          28  87  15  4.4  41.1  6.5     8  0.1   6.2    0   \n",
       "243  28    09  2012          27  87  29  0.5  45.9  3.5   7.9  0.4   3.4  0.2   \n",
       "244  29    09  2012          24  54  18  0.1  79.7  4.3  15.2  1.7   5.1  0.7   \n",
       "245  30    09  2012          24  64  15  0.2  67.3  3.8  16.5  1.2   4.8  0.5   \n",
       "\n",
       "          Classes  \n",
       "241       fire     \n",
       "242   not fire     \n",
       "243   not fire     \n",
       "244   not fire     \n",
       "245  not fire      "
      ]
     },
     "execution_count": 7,
     "metadata": {},
     "output_type": "execute_result"
    }
   ],
   "source": [
    "#displaying last 5 rows of dataset\n",
    "df.tail()"
   ]
  },
  {
   "cell_type": "code",
   "execution_count": 8,
   "id": "71f3723d",
   "metadata": {},
   "outputs": [],
   "source": [
    "# drop rows\n",
    "df.drop([122,123],inplace=True)\n",
    "df.reset_index(inplace=True)\n",
    "df.drop('index',axis=1,inplace=True)\n"
   ]
  },
  {
   "cell_type": "code",
   "execution_count": 9,
   "id": "0b4965f3",
   "metadata": {},
   "outputs": [],
   "source": [
    "df.loc[:122, 'region'] = 'bejaia'\n",
    "df.loc[122:, 'region'] = 'Sidi-Bel Abbes'"
   ]
  },
  {
   "cell_type": "code",
   "execution_count": 10,
   "id": "67a13895",
   "metadata": {},
   "outputs": [
    {
     "data": {
      "text/plain": [
       "array(['not fire', 'fire', nan], dtype=object)"
      ]
     },
     "execution_count": 10,
     "metadata": {},
     "output_type": "execute_result"
    }
   ],
   "source": [
    "#Stripping the Classes Features data\n",
    "\n",
    "df.Classes = df.Classes.str.strip()\n",
    "df['Classes'].unique()"
   ]
  },
  {
   "cell_type": "code",
   "execution_count": 11,
   "id": "8a31ea50",
   "metadata": {},
   "outputs": [
    {
     "data": {
      "text/plain": [
       "day            object\n",
       "month          object\n",
       "year           object\n",
       "Temperature    object\n",
       "RH             object\n",
       "Ws             object\n",
       "Rain           object\n",
       "FFMC           object\n",
       "DMC            object\n",
       "DC             object\n",
       "ISI            object\n",
       "BUI            object\n",
       "FWI            object\n",
       "Classes        object\n",
       "region         object\n",
       "dtype: object"
      ]
     },
     "execution_count": 11,
     "metadata": {},
     "output_type": "execute_result"
    }
   ],
   "source": [
    "#know the datatypes\n",
    "df.dtypes"
   ]
  },
  {
   "cell_type": "code",
   "execution_count": 12,
   "id": "455d5374",
   "metadata": {},
   "outputs": [],
   "source": [
    "## Changing The DataTypes of the Columns"
   ]
  },
  {
   "cell_type": "code",
   "execution_count": 13,
   "id": "4c520648",
   "metadata": {},
   "outputs": [],
   "source": [
    "df['day']=df['day'].astype(int)\n",
    "df['month']=df['month'].astype(int)\n",
    "df['year']=df['year'].astype(int)\n",
    "df['Temperature']=df['Temperature'].astype(int)\n",
    "df['RH']=df['RH'].astype(int)\n",
    "df['Rain']=df['Rain'].astype(float)\n",
    "df['FFMC']=df['FFMC'].astype(float)\n",
    "df['DMC']=df['DMC'].astype(float)\n",
    "df['BUI']=df['BUI'].astype(float)\n",
    "df['ISI']=df['ISI'].astype(float)\n",
    "df['Ws']=df['Ws'].astype(float)"
   ]
  },
  {
   "cell_type": "code",
   "execution_count": 14,
   "id": "eefb9671",
   "metadata": {},
   "outputs": [
    {
     "name": "stdout",
     "output_type": "stream",
     "text": [
      "<class 'pandas.core.frame.DataFrame'>\n",
      "RangeIndex: 244 entries, 0 to 243\n",
      "Data columns (total 15 columns):\n",
      " #   Column       Non-Null Count  Dtype  \n",
      "---  ------       --------------  -----  \n",
      " 0   day          244 non-null    int32  \n",
      " 1   month        244 non-null    int32  \n",
      " 2   year         244 non-null    int32  \n",
      " 3   Temperature  244 non-null    int32  \n",
      " 4   RH           244 non-null    int32  \n",
      " 5   Ws           244 non-null    float64\n",
      " 6   Rain         244 non-null    float64\n",
      " 7   FFMC         244 non-null    float64\n",
      " 8   DMC          244 non-null    float64\n",
      " 9   DC           244 non-null    object \n",
      " 10  ISI          244 non-null    float64\n",
      " 11  BUI          244 non-null    float64\n",
      " 12  FWI          244 non-null    object \n",
      " 13  Classes      243 non-null    object \n",
      " 14  region       244 non-null    object \n",
      "dtypes: float64(6), int32(5), object(4)\n",
      "memory usage: 24.0+ KB\n"
     ]
    }
   ],
   "source": [
    "df.info()"
   ]
  },
  {
   "cell_type": "code",
   "execution_count": 15,
   "id": "81ad3984",
   "metadata": {},
   "outputs": [
    {
     "data": {
      "text/plain": [
       "(244, 15)"
      ]
     },
     "execution_count": 15,
     "metadata": {},
     "output_type": "execute_result"
    }
   ],
   "source": [
    "#displaying the shape of dataset : No. of rows and No. of columns\n",
    "df.shape"
   ]
  },
  {
   "cell_type": "code",
   "execution_count": 16,
   "id": "d8e4149e",
   "metadata": {},
   "outputs": [
    {
     "data": {
      "text/html": [
       "<div>\n",
       "<style scoped>\n",
       "    .dataframe tbody tr th:only-of-type {\n",
       "        vertical-align: middle;\n",
       "    }\n",
       "\n",
       "    .dataframe tbody tr th {\n",
       "        vertical-align: top;\n",
       "    }\n",
       "\n",
       "    .dataframe thead th {\n",
       "        text-align: right;\n",
       "    }\n",
       "</style>\n",
       "<table border=\"1\" class=\"dataframe\">\n",
       "  <thead>\n",
       "    <tr style=\"text-align: right;\">\n",
       "      <th></th>\n",
       "      <th>day</th>\n",
       "      <th>month</th>\n",
       "      <th>year</th>\n",
       "      <th>Temperature</th>\n",
       "      <th>RH</th>\n",
       "      <th>Ws</th>\n",
       "      <th>Rain</th>\n",
       "      <th>FFMC</th>\n",
       "      <th>DMC</th>\n",
       "      <th>DC</th>\n",
       "      <th>ISI</th>\n",
       "      <th>BUI</th>\n",
       "      <th>FWI</th>\n",
       "      <th>Classes</th>\n",
       "      <th>region</th>\n",
       "    </tr>\n",
       "  </thead>\n",
       "  <tbody>\n",
       "    <tr>\n",
       "      <th>count</th>\n",
       "      <td>244.000000</td>\n",
       "      <td>244.000000</td>\n",
       "      <td>244.0</td>\n",
       "      <td>244.000000</td>\n",
       "      <td>244.000000</td>\n",
       "      <td>244.000000</td>\n",
       "      <td>244.000000</td>\n",
       "      <td>244.000000</td>\n",
       "      <td>244.000000</td>\n",
       "      <td>244</td>\n",
       "      <td>244.000000</td>\n",
       "      <td>244.000000</td>\n",
       "      <td>244</td>\n",
       "      <td>243</td>\n",
       "      <td>244</td>\n",
       "    </tr>\n",
       "    <tr>\n",
       "      <th>unique</th>\n",
       "      <td>NaN</td>\n",
       "      <td>NaN</td>\n",
       "      <td>NaN</td>\n",
       "      <td>NaN</td>\n",
       "      <td>NaN</td>\n",
       "      <td>NaN</td>\n",
       "      <td>NaN</td>\n",
       "      <td>NaN</td>\n",
       "      <td>NaN</td>\n",
       "      <td>198</td>\n",
       "      <td>NaN</td>\n",
       "      <td>NaN</td>\n",
       "      <td>127</td>\n",
       "      <td>2</td>\n",
       "      <td>2</td>\n",
       "    </tr>\n",
       "    <tr>\n",
       "      <th>top</th>\n",
       "      <td>NaN</td>\n",
       "      <td>NaN</td>\n",
       "      <td>NaN</td>\n",
       "      <td>NaN</td>\n",
       "      <td>NaN</td>\n",
       "      <td>NaN</td>\n",
       "      <td>NaN</td>\n",
       "      <td>NaN</td>\n",
       "      <td>NaN</td>\n",
       "      <td>8</td>\n",
       "      <td>NaN</td>\n",
       "      <td>NaN</td>\n",
       "      <td>0.4</td>\n",
       "      <td>fire</td>\n",
       "      <td>bejaia</td>\n",
       "    </tr>\n",
       "    <tr>\n",
       "      <th>freq</th>\n",
       "      <td>NaN</td>\n",
       "      <td>NaN</td>\n",
       "      <td>NaN</td>\n",
       "      <td>NaN</td>\n",
       "      <td>NaN</td>\n",
       "      <td>NaN</td>\n",
       "      <td>NaN</td>\n",
       "      <td>NaN</td>\n",
       "      <td>NaN</td>\n",
       "      <td>5</td>\n",
       "      <td>NaN</td>\n",
       "      <td>NaN</td>\n",
       "      <td>12</td>\n",
       "      <td>137</td>\n",
       "      <td>122</td>\n",
       "    </tr>\n",
       "    <tr>\n",
       "      <th>mean</th>\n",
       "      <td>15.754098</td>\n",
       "      <td>7.500000</td>\n",
       "      <td>2012.0</td>\n",
       "      <td>32.172131</td>\n",
       "      <td>61.938525</td>\n",
       "      <td>15.504098</td>\n",
       "      <td>0.760656</td>\n",
       "      <td>77.887705</td>\n",
       "      <td>14.673361</td>\n",
       "      <td>NaN</td>\n",
       "      <td>4.774180</td>\n",
       "      <td>16.664754</td>\n",
       "      <td>NaN</td>\n",
       "      <td>NaN</td>\n",
       "      <td>NaN</td>\n",
       "    </tr>\n",
       "    <tr>\n",
       "      <th>std</th>\n",
       "      <td>8.825059</td>\n",
       "      <td>1.112961</td>\n",
       "      <td>0.0</td>\n",
       "      <td>3.633843</td>\n",
       "      <td>14.884200</td>\n",
       "      <td>2.810178</td>\n",
       "      <td>1.999406</td>\n",
       "      <td>14.337571</td>\n",
       "      <td>12.368039</td>\n",
       "      <td>NaN</td>\n",
       "      <td>4.175318</td>\n",
       "      <td>14.204824</td>\n",
       "      <td>NaN</td>\n",
       "      <td>NaN</td>\n",
       "      <td>NaN</td>\n",
       "    </tr>\n",
       "    <tr>\n",
       "      <th>min</th>\n",
       "      <td>1.000000</td>\n",
       "      <td>6.000000</td>\n",
       "      <td>2012.0</td>\n",
       "      <td>22.000000</td>\n",
       "      <td>21.000000</td>\n",
       "      <td>6.000000</td>\n",
       "      <td>0.000000</td>\n",
       "      <td>28.600000</td>\n",
       "      <td>0.700000</td>\n",
       "      <td>NaN</td>\n",
       "      <td>0.000000</td>\n",
       "      <td>1.100000</td>\n",
       "      <td>NaN</td>\n",
       "      <td>NaN</td>\n",
       "      <td>NaN</td>\n",
       "    </tr>\n",
       "    <tr>\n",
       "      <th>25%</th>\n",
       "      <td>8.000000</td>\n",
       "      <td>7.000000</td>\n",
       "      <td>2012.0</td>\n",
       "      <td>30.000000</td>\n",
       "      <td>52.000000</td>\n",
       "      <td>14.000000</td>\n",
       "      <td>0.000000</td>\n",
       "      <td>72.075000</td>\n",
       "      <td>5.800000</td>\n",
       "      <td>NaN</td>\n",
       "      <td>1.400000</td>\n",
       "      <td>6.000000</td>\n",
       "      <td>NaN</td>\n",
       "      <td>NaN</td>\n",
       "      <td>NaN</td>\n",
       "    </tr>\n",
       "    <tr>\n",
       "      <th>50%</th>\n",
       "      <td>16.000000</td>\n",
       "      <td>7.500000</td>\n",
       "      <td>2012.0</td>\n",
       "      <td>32.000000</td>\n",
       "      <td>63.000000</td>\n",
       "      <td>15.000000</td>\n",
       "      <td>0.000000</td>\n",
       "      <td>83.500000</td>\n",
       "      <td>11.300000</td>\n",
       "      <td>NaN</td>\n",
       "      <td>3.500000</td>\n",
       "      <td>12.250000</td>\n",
       "      <td>NaN</td>\n",
       "      <td>NaN</td>\n",
       "      <td>NaN</td>\n",
       "    </tr>\n",
       "    <tr>\n",
       "      <th>75%</th>\n",
       "      <td>23.000000</td>\n",
       "      <td>8.000000</td>\n",
       "      <td>2012.0</td>\n",
       "      <td>35.000000</td>\n",
       "      <td>73.250000</td>\n",
       "      <td>17.000000</td>\n",
       "      <td>0.500000</td>\n",
       "      <td>88.300000</td>\n",
       "      <td>20.750000</td>\n",
       "      <td>NaN</td>\n",
       "      <td>7.300000</td>\n",
       "      <td>22.525000</td>\n",
       "      <td>NaN</td>\n",
       "      <td>NaN</td>\n",
       "      <td>NaN</td>\n",
       "    </tr>\n",
       "    <tr>\n",
       "      <th>max</th>\n",
       "      <td>31.000000</td>\n",
       "      <td>9.000000</td>\n",
       "      <td>2012.0</td>\n",
       "      <td>42.000000</td>\n",
       "      <td>90.000000</td>\n",
       "      <td>29.000000</td>\n",
       "      <td>16.800000</td>\n",
       "      <td>96.000000</td>\n",
       "      <td>65.900000</td>\n",
       "      <td>NaN</td>\n",
       "      <td>19.000000</td>\n",
       "      <td>68.000000</td>\n",
       "      <td>NaN</td>\n",
       "      <td>NaN</td>\n",
       "      <td>NaN</td>\n",
       "    </tr>\n",
       "  </tbody>\n",
       "</table>\n",
       "</div>"
      ],
      "text/plain": [
       "               day       month    year  Temperature          RH          Ws  \\\n",
       "count   244.000000  244.000000   244.0   244.000000  244.000000  244.000000   \n",
       "unique         NaN         NaN     NaN          NaN         NaN         NaN   \n",
       "top            NaN         NaN     NaN          NaN         NaN         NaN   \n",
       "freq           NaN         NaN     NaN          NaN         NaN         NaN   \n",
       "mean     15.754098    7.500000  2012.0    32.172131   61.938525   15.504098   \n",
       "std       8.825059    1.112961     0.0     3.633843   14.884200    2.810178   \n",
       "min       1.000000    6.000000  2012.0    22.000000   21.000000    6.000000   \n",
       "25%       8.000000    7.000000  2012.0    30.000000   52.000000   14.000000   \n",
       "50%      16.000000    7.500000  2012.0    32.000000   63.000000   15.000000   \n",
       "75%      23.000000    8.000000  2012.0    35.000000   73.250000   17.000000   \n",
       "max      31.000000    9.000000  2012.0    42.000000   90.000000   29.000000   \n",
       "\n",
       "              Rain        FFMC         DMC   DC         ISI         BUI  FWI  \\\n",
       "count   244.000000  244.000000  244.000000  244  244.000000  244.000000  244   \n",
       "unique         NaN         NaN         NaN  198         NaN         NaN  127   \n",
       "top            NaN         NaN         NaN    8         NaN         NaN  0.4   \n",
       "freq           NaN         NaN         NaN    5         NaN         NaN   12   \n",
       "mean      0.760656   77.887705   14.673361  NaN    4.774180   16.664754  NaN   \n",
       "std       1.999406   14.337571   12.368039  NaN    4.175318   14.204824  NaN   \n",
       "min       0.000000   28.600000    0.700000  NaN    0.000000    1.100000  NaN   \n",
       "25%       0.000000   72.075000    5.800000  NaN    1.400000    6.000000  NaN   \n",
       "50%       0.000000   83.500000   11.300000  NaN    3.500000   12.250000  NaN   \n",
       "75%       0.500000   88.300000   20.750000  NaN    7.300000   22.525000  NaN   \n",
       "max      16.800000   96.000000   65.900000  NaN   19.000000   68.000000  NaN   \n",
       "\n",
       "       Classes  region  \n",
       "count      243     244  \n",
       "unique       2       2  \n",
       "top       fire  bejaia  \n",
       "freq       137     122  \n",
       "mean       NaN     NaN  \n",
       "std        NaN     NaN  \n",
       "min        NaN     NaN  \n",
       "25%        NaN     NaN  \n",
       "50%        NaN     NaN  \n",
       "75%        NaN     NaN  \n",
       "max        NaN     NaN  "
      ]
     },
     "execution_count": 16,
     "metadata": {},
     "output_type": "execute_result"
    }
   ],
   "source": [
    "#getting overall statistics about the dataframe\n",
    "df.describe(include='all')"
   ]
  },
  {
   "cell_type": "code",
   "execution_count": 17,
   "id": "10fac659",
   "metadata": {},
   "outputs": [
    {
     "data": {
      "text/plain": [
       "Index(['day', 'month', 'year', 'Temperature', 'RH', 'Ws', 'Rain', 'FFMC',\n",
       "       'DMC', 'DC', 'ISI', 'BUI', 'FWI', 'Classes', 'region'],\n",
       "      dtype='object')"
      ]
     },
     "execution_count": 17,
     "metadata": {},
     "output_type": "execute_result"
    }
   ],
   "source": [
    "# how many columns are in the dataframe\n",
    "df.columns\n",
    "#there are spaces after the Rain and Classes columns so i rename to take out spaces\n"
   ]
  },
  {
   "cell_type": "code",
   "execution_count": 18,
   "id": "98fcce96",
   "metadata": {},
   "outputs": [],
   "source": [
    "#renaming column names so as to remove spaces nehind\n",
    " \n",
    "df.rename(columns={'Rain ': 'Rain', 'Classes  ': 'classes'}, inplace=True)"
   ]
  },
  {
   "cell_type": "code",
   "execution_count": 19,
   "id": "3c83e7b9",
   "metadata": {},
   "outputs": [
    {
     "data": {
      "text/plain": [
       "day             31\n",
       "month            4\n",
       "year             1\n",
       "Temperature     19\n",
       "RH              62\n",
       "Ws              18\n",
       "Rain            39\n",
       "FFMC           173\n",
       "DMC            166\n",
       "DC             198\n",
       "ISI            106\n",
       "BUI            174\n",
       "FWI            127\n",
       "Classes          2\n",
       "region           2\n",
       "dtype: int64"
      ]
     },
     "execution_count": 19,
     "metadata": {},
     "output_type": "execute_result"
    }
   ],
   "source": [
    "df.nunique()"
   ]
  },
  {
   "cell_type": "code",
   "execution_count": 20,
   "id": "4b9c0ec4",
   "metadata": {},
   "outputs": [],
   "source": [
    "## Applying Label encoding in DC,FWI,region features\n",
    "\n",
    "from sklearn.preprocessing import LabelEncoder\n",
    "LabelEncoder=LabelEncoder()"
   ]
  },
  {
   "cell_type": "code",
   "execution_count": 21,
   "id": "8aa7f059",
   "metadata": {},
   "outputs": [],
   "source": [
    "df['DC']=LabelEncoder.fit_transform(df['DC'])\n",
    "df['FWI']=LabelEncoder.fit_transform(df['FWI'])\n",
    "df['region']=LabelEncoder.fit_transform(df['region'])"
   ]
  },
  {
   "cell_type": "code",
   "execution_count": 22,
   "id": "682456de",
   "metadata": {},
   "outputs": [
    {
     "data": {
      "text/plain": [
       "day              int32\n",
       "month            int32\n",
       "year             int32\n",
       "Temperature      int32\n",
       "RH               int32\n",
       "Ws             float64\n",
       "Rain           float64\n",
       "FFMC           float64\n",
       "DMC            float64\n",
       "DC               int32\n",
       "ISI            float64\n",
       "BUI            float64\n",
       "FWI              int32\n",
       "Classes         object\n",
       "region           int32\n",
       "dtype: object"
      ]
     },
     "execution_count": 22,
     "metadata": {},
     "output_type": "execute_result"
    }
   ],
   "source": [
    "df.dtypes"
   ]
  },
  {
   "cell_type": "code",
   "execution_count": 23,
   "id": "02a975dc",
   "metadata": {
    "scrolled": true
   },
   "outputs": [
    {
     "data": {
      "text/html": [
       "<div>\n",
       "<style scoped>\n",
       "    .dataframe tbody tr th:only-of-type {\n",
       "        vertical-align: middle;\n",
       "    }\n",
       "\n",
       "    .dataframe tbody tr th {\n",
       "        vertical-align: top;\n",
       "    }\n",
       "\n",
       "    .dataframe thead th {\n",
       "        text-align: right;\n",
       "    }\n",
       "</style>\n",
       "<table border=\"1\" class=\"dataframe\">\n",
       "  <thead>\n",
       "    <tr style=\"text-align: right;\">\n",
       "      <th></th>\n",
       "      <th>day</th>\n",
       "      <th>month</th>\n",
       "      <th>year</th>\n",
       "      <th>Temperature</th>\n",
       "      <th>RH</th>\n",
       "      <th>Ws</th>\n",
       "      <th>Rain</th>\n",
       "      <th>FFMC</th>\n",
       "      <th>DMC</th>\n",
       "      <th>DC</th>\n",
       "      <th>ISI</th>\n",
       "      <th>BUI</th>\n",
       "      <th>FWI</th>\n",
       "      <th>Classes</th>\n",
       "      <th>region</th>\n",
       "    </tr>\n",
       "  </thead>\n",
       "  <tbody>\n",
       "    <tr>\n",
       "      <th>0</th>\n",
       "      <td>1</td>\n",
       "      <td>6</td>\n",
       "      <td>2012</td>\n",
       "      <td>29</td>\n",
       "      <td>57</td>\n",
       "      <td>18.0</td>\n",
       "      <td>0.0</td>\n",
       "      <td>65.7</td>\n",
       "      <td>3.4</td>\n",
       "      <td>150</td>\n",
       "      <td>1.3</td>\n",
       "      <td>3.4</td>\n",
       "      <td>5</td>\n",
       "      <td>not fire</td>\n",
       "      <td>1</td>\n",
       "    </tr>\n",
       "    <tr>\n",
       "      <th>1</th>\n",
       "      <td>2</td>\n",
       "      <td>6</td>\n",
       "      <td>2012</td>\n",
       "      <td>29</td>\n",
       "      <td>61</td>\n",
       "      <td>13.0</td>\n",
       "      <td>1.3</td>\n",
       "      <td>64.4</td>\n",
       "      <td>4.1</td>\n",
       "      <td>150</td>\n",
       "      <td>1.0</td>\n",
       "      <td>3.9</td>\n",
       "      <td>4</td>\n",
       "      <td>not fire</td>\n",
       "      <td>1</td>\n",
       "    </tr>\n",
       "    <tr>\n",
       "      <th>2</th>\n",
       "      <td>3</td>\n",
       "      <td>6</td>\n",
       "      <td>2012</td>\n",
       "      <td>26</td>\n",
       "      <td>82</td>\n",
       "      <td>22.0</td>\n",
       "      <td>13.1</td>\n",
       "      <td>47.1</td>\n",
       "      <td>2.5</td>\n",
       "      <td>146</td>\n",
       "      <td>0.3</td>\n",
       "      <td>2.7</td>\n",
       "      <td>1</td>\n",
       "      <td>not fire</td>\n",
       "      <td>1</td>\n",
       "    </tr>\n",
       "    <tr>\n",
       "      <th>3</th>\n",
       "      <td>4</td>\n",
       "      <td>6</td>\n",
       "      <td>2012</td>\n",
       "      <td>25</td>\n",
       "      <td>89</td>\n",
       "      <td>13.0</td>\n",
       "      <td>2.5</td>\n",
       "      <td>28.6</td>\n",
       "      <td>1.3</td>\n",
       "      <td>136</td>\n",
       "      <td>0.0</td>\n",
       "      <td>1.7</td>\n",
       "      <td>0</td>\n",
       "      <td>not fire</td>\n",
       "      <td>1</td>\n",
       "    </tr>\n",
       "    <tr>\n",
       "      <th>4</th>\n",
       "      <td>5</td>\n",
       "      <td>6</td>\n",
       "      <td>2012</td>\n",
       "      <td>27</td>\n",
       "      <td>77</td>\n",
       "      <td>16.0</td>\n",
       "      <td>0.0</td>\n",
       "      <td>64.8</td>\n",
       "      <td>3.0</td>\n",
       "      <td>18</td>\n",
       "      <td>1.2</td>\n",
       "      <td>3.9</td>\n",
       "      <td>5</td>\n",
       "      <td>not fire</td>\n",
       "      <td>1</td>\n",
       "    </tr>\n",
       "  </tbody>\n",
       "</table>\n",
       "</div>"
      ],
      "text/plain": [
       "   day  month  year  Temperature  RH    Ws  Rain  FFMC  DMC   DC  ISI  BUI  \\\n",
       "0    1      6  2012           29  57  18.0   0.0  65.7  3.4  150  1.3  3.4   \n",
       "1    2      6  2012           29  61  13.0   1.3  64.4  4.1  150  1.0  3.9   \n",
       "2    3      6  2012           26  82  22.0  13.1  47.1  2.5  146  0.3  2.7   \n",
       "3    4      6  2012           25  89  13.0   2.5  28.6  1.3  136  0.0  1.7   \n",
       "4    5      6  2012           27  77  16.0   0.0  64.8  3.0   18  1.2  3.9   \n",
       "\n",
       "   FWI   Classes  region  \n",
       "0    5  not fire       1  \n",
       "1    4  not fire       1  \n",
       "2    1  not fire       1  \n",
       "3    0  not fire       1  \n",
       "4    5  not fire       1  "
      ]
     },
     "execution_count": 23,
     "metadata": {},
     "output_type": "execute_result"
    }
   ],
   "source": [
    "df.head()\n"
   ]
  },
  {
   "cell_type": "code",
   "execution_count": 24,
   "id": "98906e0b",
   "metadata": {},
   "outputs": [
    {
     "data": {
      "text/plain": [
       "day            0\n",
       "month          0\n",
       "year           0\n",
       "Temperature    0\n",
       "RH             0\n",
       "Ws             0\n",
       "Rain           0\n",
       "FFMC           0\n",
       "DMC            0\n",
       "DC             0\n",
       "ISI            0\n",
       "BUI            0\n",
       "FWI            0\n",
       "Classes        1\n",
       "region         0\n",
       "dtype: int64"
      ]
     },
     "execution_count": 24,
     "metadata": {},
     "output_type": "execute_result"
    }
   ],
   "source": [
    "#checking for null values.\n",
    "df.isnull().sum()"
   ]
  },
  {
   "cell_type": "code",
   "execution_count": 25,
   "id": "bd74c887",
   "metadata": {},
   "outputs": [],
   "source": [
    "#dropped the year and classes attribute as the fires all occured in the same year (2012)\n",
    "#i dropped classes too as i couldnt compare variables \n",
    "df = df.drop(['year', 'Classes'], axis=1)"
   ]
  },
  {
   "cell_type": "code",
   "execution_count": 26,
   "id": "88fd91c6",
   "metadata": {},
   "outputs": [
    {
     "data": {
      "text/html": [
       "<div>\n",
       "<style scoped>\n",
       "    .dataframe tbody tr th:only-of-type {\n",
       "        vertical-align: middle;\n",
       "    }\n",
       "\n",
       "    .dataframe tbody tr th {\n",
       "        vertical-align: top;\n",
       "    }\n",
       "\n",
       "    .dataframe thead th {\n",
       "        text-align: right;\n",
       "    }\n",
       "</style>\n",
       "<table border=\"1\" class=\"dataframe\">\n",
       "  <thead>\n",
       "    <tr style=\"text-align: right;\">\n",
       "      <th></th>\n",
       "      <th>day</th>\n",
       "      <th>month</th>\n",
       "      <th>Temperature</th>\n",
       "      <th>RH</th>\n",
       "      <th>Ws</th>\n",
       "      <th>Rain</th>\n",
       "      <th>FFMC</th>\n",
       "      <th>DMC</th>\n",
       "      <th>DC</th>\n",
       "      <th>ISI</th>\n",
       "      <th>BUI</th>\n",
       "      <th>FWI</th>\n",
       "      <th>region</th>\n",
       "    </tr>\n",
       "  </thead>\n",
       "  <tbody>\n",
       "    <tr>\n",
       "      <th>0</th>\n",
       "      <td>1</td>\n",
       "      <td>6</td>\n",
       "      <td>29</td>\n",
       "      <td>57</td>\n",
       "      <td>18.0</td>\n",
       "      <td>0.0</td>\n",
       "      <td>65.7</td>\n",
       "      <td>3.4</td>\n",
       "      <td>150</td>\n",
       "      <td>1.3</td>\n",
       "      <td>3.4</td>\n",
       "      <td>5</td>\n",
       "      <td>1</td>\n",
       "    </tr>\n",
       "    <tr>\n",
       "      <th>1</th>\n",
       "      <td>2</td>\n",
       "      <td>6</td>\n",
       "      <td>29</td>\n",
       "      <td>61</td>\n",
       "      <td>13.0</td>\n",
       "      <td>1.3</td>\n",
       "      <td>64.4</td>\n",
       "      <td>4.1</td>\n",
       "      <td>150</td>\n",
       "      <td>1.0</td>\n",
       "      <td>3.9</td>\n",
       "      <td>4</td>\n",
       "      <td>1</td>\n",
       "    </tr>\n",
       "    <tr>\n",
       "      <th>2</th>\n",
       "      <td>3</td>\n",
       "      <td>6</td>\n",
       "      <td>26</td>\n",
       "      <td>82</td>\n",
       "      <td>22.0</td>\n",
       "      <td>13.1</td>\n",
       "      <td>47.1</td>\n",
       "      <td>2.5</td>\n",
       "      <td>146</td>\n",
       "      <td>0.3</td>\n",
       "      <td>2.7</td>\n",
       "      <td>1</td>\n",
       "      <td>1</td>\n",
       "    </tr>\n",
       "    <tr>\n",
       "      <th>3</th>\n",
       "      <td>4</td>\n",
       "      <td>6</td>\n",
       "      <td>25</td>\n",
       "      <td>89</td>\n",
       "      <td>13.0</td>\n",
       "      <td>2.5</td>\n",
       "      <td>28.6</td>\n",
       "      <td>1.3</td>\n",
       "      <td>136</td>\n",
       "      <td>0.0</td>\n",
       "      <td>1.7</td>\n",
       "      <td>0</td>\n",
       "      <td>1</td>\n",
       "    </tr>\n",
       "    <tr>\n",
       "      <th>4</th>\n",
       "      <td>5</td>\n",
       "      <td>6</td>\n",
       "      <td>27</td>\n",
       "      <td>77</td>\n",
       "      <td>16.0</td>\n",
       "      <td>0.0</td>\n",
       "      <td>64.8</td>\n",
       "      <td>3.0</td>\n",
       "      <td>18</td>\n",
       "      <td>1.2</td>\n",
       "      <td>3.9</td>\n",
       "      <td>5</td>\n",
       "      <td>1</td>\n",
       "    </tr>\n",
       "  </tbody>\n",
       "</table>\n",
       "</div>"
      ],
      "text/plain": [
       "   day  month  Temperature  RH    Ws  Rain  FFMC  DMC   DC  ISI  BUI  FWI  \\\n",
       "0    1      6           29  57  18.0   0.0  65.7  3.4  150  1.3  3.4    5   \n",
       "1    2      6           29  61  13.0   1.3  64.4  4.1  150  1.0  3.9    4   \n",
       "2    3      6           26  82  22.0  13.1  47.1  2.5  146  0.3  2.7    1   \n",
       "3    4      6           25  89  13.0   2.5  28.6  1.3  136  0.0  1.7    0   \n",
       "4    5      6           27  77  16.0   0.0  64.8  3.0   18  1.2  3.9    5   \n",
       "\n",
       "   region  \n",
       "0       1  \n",
       "1       1  \n",
       "2       1  \n",
       "3       1  \n",
       "4       1  "
      ]
     },
     "execution_count": 26,
     "metadata": {},
     "output_type": "execute_result"
    }
   ],
   "source": [
    "#check after droppping year attribute\n",
    "\n",
    "df.head()"
   ]
  },
  {
   "cell_type": "markdown",
   "id": "ccd32139",
   "metadata": {},
   "source": [
    "# Univariate Analysis"
   ]
  },
  {
   "cell_type": "code",
   "execution_count": 27,
   "id": "91831849",
   "metadata": {},
   "outputs": [],
   "source": [
    "numeric_features = [feature for feature in df.columns if df[feature].dtype != 'O']"
   ]
  },
  {
   "cell_type": "code",
   "execution_count": 28,
   "id": "72bedd83",
   "metadata": {},
   "outputs": [
    {
     "data": {
      "text/plain": [
       "['day',\n",
       " 'month',\n",
       " 'Temperature',\n",
       " 'RH',\n",
       " 'Ws',\n",
       " 'Rain',\n",
       " 'FFMC',\n",
       " 'DMC',\n",
       " 'DC',\n",
       " 'ISI',\n",
       " 'BUI',\n",
       " 'FWI',\n",
       " 'region']"
      ]
     },
     "execution_count": 28,
     "metadata": {},
     "output_type": "execute_result"
    }
   ],
   "source": [
    "numeric_features "
   ]
  },
  {
   "cell_type": "code",
   "execution_count": 29,
   "id": "e4feed63",
   "metadata": {},
   "outputs": [
    {
     "data": {
      "image/png": "[encoded data removed]",
      "text/plain": [
       "<Figure size 1080x1080 with 13 Axes>"
      ]
     },
     "metadata": {
      "needs_background": "light"
     },
     "output_type": "display_data"
    }
   ],
   "source": [
    "plt.figure(figsize=(15, 15))\n",
    "plt.suptitle('Univariate Analysis of Numerical Features', fontsize=20, fontweight='bold', alpha=0.8, y=1.)\n",
    "\n",
    "for i in range(0, len(numeric_features)):\n",
    "    plt.subplot(5, 3, i+1)\n",
    "    sns.kdeplot(x=df[numeric_features[i]],shade=True, color='r')\n",
    "    plt.xlabel(numeric_features[i])\n",
    "    plt.tight_layout()"
   ]
  },
  {
   "cell_type": "markdown",
   "id": "eee42684",
   "metadata": {},
   "source": [
    "# Observations:\n",
    "\n",
    "Temperature : temperature noon (temperature max) in Celsius degrees: 22 to 42\n",
    "\n",
    "RH : Relative Humidity in %: 21 to 90\n",
    "\n",
    "Ws :Wind speed in km/h: 6 to 29\n",
    "\n",
    "Rain: total day in mm: 0 to 16.8\n",
    "\n",
    "(FFMC) Fine Fuel Moisture Code index from the FWI system: 28.6 to 92.5\n",
    "\n",
    "(DMC) Duff Moisture Code index from the FWI system: 1.1 to 65.9\n",
    "\n",
    "(DC) Drought Code index from the FWI system: 7 to 220.4\n",
    "\n",
    "(ISI) Initial Spread Index from the FWI system: 0 to 18.5\n",
    "\n",
    "(BUI) Buildup Index from the FWI system: 1.1 to 68\n",
    "\n",
    "(FWI) Fire Weather Index: 0 to 31.1\n",
    "\n",
    "We can also see outliers in most of these features."
   ]
  },
  {
   "cell_type": "code",
   "execution_count": 30,
   "id": "f3e83b46",
   "metadata": {},
   "outputs": [
    {
     "data": {
      "image/png": "[encoded data removed]",
      "text/plain": [
       "<Figure size 432x288 with 1 Axes>"
      ]
     },
     "metadata": {
      "needs_background": "light"
     },
     "output_type": "display_data"
    },
    {
     "data": {
      "image/png": "[encoded data removed]",
      "text/plain": [
       "<Figure size 432x288 with 1 Axes>"
      ]
     },
     "metadata": {
      "needs_background": "light"
     },
     "output_type": "display_data"
    },
    {
     "data": {
      "image/png": "[encoded data removed]",
      "text/plain": [
       "<Figure size 432x288 with 1 Axes>"
      ]
     },
     "metadata": {
      "needs_background": "light"
     },
     "output_type": "display_data"
    },
    {
     "data": {
      "image/png": "[encoded data removed]",
      "text/plain": [
       "<Figure size 432x288 with 1 Axes>"
      ]
     },
     "metadata": {
      "needs_background": "light"
     },
     "output_type": "display_data"
    },
    {
     "data": {
      "image/png": "[encoded data removed]",
      "text/plain": [
       "<Figure size 432x288 with 1 Axes>"
      ]
     },
     "metadata": {
      "needs_background": "light"
     },
     "output_type": "display_data"
    },
    {
     "data": {
      "image/png": "[encoded data removed]",
      "text/plain": [
       "<Figure size 432x288 with 1 Axes>"
      ]
     },
     "metadata": {
      "needs_background": "light"
     },
     "output_type": "display_data"
    },
    {
     "data": {
      "image/png": "[encoded data removed]",
      "text/plain": [
       "<Figure size 432x288 with 1 Axes>"
      ]
     },
     "metadata": {
      "needs_background": "light"
     },
     "output_type": "display_data"
    },
    {
     "data": {
      "image/png": "[encoded data removed]",
      "text/plain": [
       "<Figure size 432x288 with 1 Axes>"
      ]
     },
     "metadata": {
      "needs_background": "light"
     },
     "output_type": "display_data"
    },
    {
     "data": {
      "image/png": "[encoded data removed]",
      "text/plain": [
       "<Figure size 432x288 with 1 Axes>"
      ]
     },
     "metadata": {
      "needs_background": "light"
     },
     "output_type": "display_data"
    },
    {
     "data": {
      "image/png": "[encoded data removed]",
      "text/plain": [
       "<Figure size 432x288 with 1 Axes>"
      ]
     },
     "metadata": {
      "needs_background": "light"
     },
     "output_type": "display_data"
    },
    {
     "data": {
      "image/png": "[encoded data removed]",
      "text/plain": [
       "<Figure size 432x288 with 1 Axes>"
      ]
     },
     "metadata": {
      "needs_background": "light"
     },
     "output_type": "display_data"
    },
    {
     "data": {
      "image/png": "[encoded data removed]",
      "text/plain": [
       "<Figure size 432x288 with 1 Axes>"
      ]
     },
     "metadata": {
      "needs_background": "light"
     },
     "output_type": "display_data"
    },
    {
     "data": {
      "image/png": "[encoded data removed]",
      "text/plain": [
       "<Figure size 432x288 with 1 Axes>"
      ]
     },
     "metadata": {
      "needs_background": "light"
     },
     "output_type": "display_data"
    }
   ],
   "source": [
    "x_axis = numeric_features\n",
    "y = \"Temperature\"\n",
    "\n",
    "for col in x_axis:\n",
    "    sns.regplot(x = col, y = y, data = df)\n",
    "    plt.xlabel(col, fontsize = 13)\n",
    "    plt.ylabel(y, fontsize = 13)\n",
    "    plt.title(\"Scatter Plot of \" + col + \" & \" + y, fontsize = 15)\n",
    "    plt.grid()\n",
    "    plt.show()"
   ]
  },
  {
   "cell_type": "markdown",
   "id": "932818ad",
   "metadata": {},
   "source": [
    "# Observations:\n",
    "\n",
    "As we are considering Temperature as our dependent feature we are checking relation of each feature with it.\n",
    "\n",
    "RH shows negative correlation with Temperature as increase in RH reduces the Temperature.\n",
    "\n",
    "WS too shows negative correlation with Temperature but not as strong as RH.\n",
    "\n",
    "FFMC shows strong positive correlation as Temperature increases with FFMC which is clearly seen from the plot.\n",
    "\n",
    "ISI shows positive correlation with Temperature."
   ]
  },
  {
   "cell_type": "code",
   "execution_count": 31,
   "id": "7220abd4",
   "metadata": {},
   "outputs": [
    {
     "data": {
      "text/plain": [
       "array([[<AxesSubplot:title={'center':'day'}>,\n",
       "        <AxesSubplot:title={'center':'month'}>,\n",
       "        <AxesSubplot:title={'center':'Temperature'}>,\n",
       "        <AxesSubplot:title={'center':'RH'}>],\n",
       "       [<AxesSubplot:title={'center':'Ws'}>,\n",
       "        <AxesSubplot:title={'center':'Rain'}>,\n",
       "        <AxesSubplot:title={'center':'FFMC'}>,\n",
       "        <AxesSubplot:title={'center':'DMC'}>],\n",
       "       [<AxesSubplot:title={'center':'DC'}>,\n",
       "        <AxesSubplot:title={'center':'ISI'}>,\n",
       "        <AxesSubplot:title={'center':'BUI'}>,\n",
       "        <AxesSubplot:title={'center':'FWI'}>],\n",
       "       [<AxesSubplot:title={'center':'region'}>, <AxesSubplot:>,\n",
       "        <AxesSubplot:>, <AxesSubplot:>]], dtype=object)"
      ]
     },
     "execution_count": 31,
     "metadata": {},
     "output_type": "execute_result"
    },
    {
     "data": {
      "image/png": "[encoded data removed]",
      "text/plain": [
       "<Figure size 1440x1008 with 16 Axes>"
      ]
     },
     "metadata": {
      "needs_background": "light"
     },
     "output_type": "display_data"
    }
   ],
   "source": [
    "#A histogram is basically used to represent data provided in a form of some groups.It is accurate method for the graphical \n",
    "#representation of numerical data distribution.It is a type of bar plot where X-axis represents the bin ranges while Y-axis \n",
    "#gives information about frequency.\n",
    "df.hist(figsize=(20,14),color='b')"
   ]
  },
  {
   "cell_type": "code",
   "execution_count": 32,
   "id": "73473fd5",
   "metadata": {},
   "outputs": [
    {
     "data": {
      "text/plain": [
       "<AxesSubplot:xlabel='Temperature', ylabel='day'>"
      ]
     },
     "execution_count": 32,
     "metadata": {},
     "output_type": "execute_result"
    },
    {
     "data": {
      "image/png": "[encoded data removed]",
      "text/plain": [
       "<Figure size 432x288 with 1 Axes>"
      ]
     },
     "metadata": {
      "needs_background": "light"
     },
     "output_type": "display_data"
    }
   ],
   "source": [
    "#LINEPLOT\n",
    "#A Line plot can be defined as a graph that displays data as points or check marks above a number line, showing the frequency\n",
    "#of each value.\n",
    "\n",
    "sns.lineplot(x='Temperature',y='day',data=df,color='g')\n"
   ]
  },
  {
   "cell_type": "code",
   "execution_count": 33,
   "id": "bd74fc50",
   "metadata": {},
   "outputs": [
    {
     "data": {
      "text/plain": [
       "42"
      ]
     },
     "execution_count": 33,
     "metadata": {},
     "output_type": "execute_result"
    }
   ],
   "source": [
    "#What is the highest temperature in the dataset\n",
    "df.Temperature.max()"
   ]
  },
  {
   "cell_type": "code",
   "execution_count": 34,
   "id": "a9e0a7b8",
   "metadata": {},
   "outputs": [
    {
     "data": {
      "text/plain": [
       "22"
      ]
     },
     "execution_count": 34,
     "metadata": {},
     "output_type": "execute_result"
    }
   ],
   "source": [
    "#What is the lowest temperature in the dataset\n",
    "df.Temperature.min()"
   ]
  },
  {
   "cell_type": "code",
   "execution_count": 35,
   "id": "a1ea76e3",
   "metadata": {},
   "outputs": [
    {
     "data": {
      "text/html": [
       "<div>\n",
       "<style scoped>\n",
       "    .dataframe tbody tr th:only-of-type {\n",
       "        vertical-align: middle;\n",
       "    }\n",
       "\n",
       "    .dataframe tbody tr th {\n",
       "        vertical-align: top;\n",
       "    }\n",
       "\n",
       "    .dataframe thead th {\n",
       "        text-align: right;\n",
       "    }\n",
       "</style>\n",
       "<table border=\"1\" class=\"dataframe\">\n",
       "  <thead>\n",
       "    <tr style=\"text-align: right;\">\n",
       "      <th></th>\n",
       "      <th>Rain</th>\n",
       "      <th>day</th>\n",
       "      <th>month</th>\n",
       "    </tr>\n",
       "  </thead>\n",
       "  <tbody>\n",
       "    <tr>\n",
       "      <th>91</th>\n",
       "      <td>16.8</td>\n",
       "      <td>31</td>\n",
       "      <td>8</td>\n",
       "    </tr>\n",
       "  </tbody>\n",
       "</table>\n",
       "</div>"
      ],
      "text/plain": [
       "    Rain  day  month\n",
       "91  16.8   31      8"
      ]
     },
     "execution_count": 35,
     "metadata": {},
     "output_type": "execute_result"
    }
   ],
   "source": [
    "#When did it rain the most\n",
    "#the 31st day in the 8th month with 16.8mm of rainfall\n",
    "highest_rain = df.sort_values(by='Rain', ascending=False)[['Rain', 'day','month']].head(1)\n",
    "highest_rain"
   ]
  },
  {
   "cell_type": "code",
   "execution_count": 36,
   "id": "fbb7a7ef",
   "metadata": {},
   "outputs": [
    {
     "data": {
      "text/html": [
       "<div>\n",
       "<style scoped>\n",
       "    .dataframe tbody tr th:only-of-type {\n",
       "        vertical-align: middle;\n",
       "    }\n",
       "\n",
       "    .dataframe tbody tr th {\n",
       "        vertical-align: top;\n",
       "    }\n",
       "\n",
       "    .dataframe thead th {\n",
       "        text-align: right;\n",
       "    }\n",
       "</style>\n",
       "<table border=\"1\" class=\"dataframe\">\n",
       "  <thead>\n",
       "    <tr style=\"text-align: right;\">\n",
       "      <th></th>\n",
       "      <th>Rain</th>\n",
       "      <th>day</th>\n",
       "      <th>month</th>\n",
       "    </tr>\n",
       "  </thead>\n",
       "  <tbody>\n",
       "    <tr>\n",
       "      <th>0</th>\n",
       "      <td>0.0</td>\n",
       "      <td>1</td>\n",
       "      <td>6</td>\n",
       "    </tr>\n",
       "  </tbody>\n",
       "</table>\n",
       "</div>"
      ],
      "text/plain": [
       "   Rain  day  month\n",
       "0   0.0    1      6"
      ]
     },
     "execution_count": 36,
     "metadata": {},
     "output_type": "execute_result"
    }
   ],
   "source": [
    "#What did it rain the least\n",
    "#the 6th month with 0.0mm of rainfall\n",
    "lowest_rain = df.sort_values(by='Rain', ascending=True)[['Rain', 'day', 'month']].head(1)\n",
    "lowest_rain"
   ]
  },
  {
   "cell_type": "code",
   "execution_count": 37,
   "id": "2b8a391f",
   "metadata": {},
   "outputs": [
    {
     "data": {
      "text/html": [
       "<div>\n",
       "<style scoped>\n",
       "    .dataframe tbody tr th:only-of-type {\n",
       "        vertical-align: middle;\n",
       "    }\n",
       "\n",
       "    .dataframe tbody tr th {\n",
       "        vertical-align: top;\n",
       "    }\n",
       "\n",
       "    .dataframe thead th {\n",
       "        text-align: right;\n",
       "    }\n",
       "</style>\n",
       "<table border=\"1\" class=\"dataframe\">\n",
       "  <thead>\n",
       "    <tr style=\"text-align: right;\">\n",
       "      <th></th>\n",
       "      <th>month</th>\n",
       "    </tr>\n",
       "  </thead>\n",
       "  <tbody>\n",
       "    <tr>\n",
       "      <th>199</th>\n",
       "      <td>8</td>\n",
       "    </tr>\n",
       "  </tbody>\n",
       "</table>\n",
       "</div>"
      ],
      "text/plain": [
       "     month\n",
       "199      8"
      ]
     },
     "execution_count": 37,
     "metadata": {},
     "output_type": "execute_result"
    }
   ],
   "source": [
    "#What month is the hottest\n",
    "#the 8th month\n",
    "highest_month = df.sort_values(by='Temperature', ascending=False)[['month']].head(1)\n",
    "highest_month"
   ]
  },
  {
   "cell_type": "code",
   "execution_count": 38,
   "id": "f5af1a2b",
   "metadata": {},
   "outputs": [
    {
     "data": {
      "text/html": [
       "<div>\n",
       "<style scoped>\n",
       "    .dataframe tbody tr th:only-of-type {\n",
       "        vertical-align: middle;\n",
       "    }\n",
       "\n",
       "    .dataframe tbody tr th {\n",
       "        vertical-align: top;\n",
       "    }\n",
       "\n",
       "    .dataframe thead th {\n",
       "        text-align: right;\n",
       "    }\n",
       "</style>\n",
       "<table border=\"1\" class=\"dataframe\">\n",
       "  <thead>\n",
       "    <tr style=\"text-align: right;\">\n",
       "      <th></th>\n",
       "      <th>Temperature</th>\n",
       "      <th>day</th>\n",
       "      <th>month</th>\n",
       "    </tr>\n",
       "  </thead>\n",
       "  <tbody>\n",
       "    <tr>\n",
       "      <th>199</th>\n",
       "      <td>42</td>\n",
       "      <td>17</td>\n",
       "      <td>8</td>\n",
       "    </tr>\n",
       "  </tbody>\n",
       "</table>\n",
       "</div>"
      ],
      "text/plain": [
       "     Temperature  day  month\n",
       "199           42   17      8"
      ]
     },
     "execution_count": 38,
     "metadata": {},
     "output_type": "execute_result"
    }
   ],
   "source": [
    "#what day has the highest temperature in the dataset?\n",
    "#The highest Temperature is 42 degrees and it occured on the 17th of  the 8th Month).\n",
    "highest_temp = df.sort_values(by='Temperature', ascending=False)[['Temperature','day','month']].head(1)\n",
    "highest_temp"
   ]
  },
  {
   "cell_type": "markdown",
   "id": "18808d82",
   "metadata": {},
   "source": [
    "# Creating Dependent and Independent features"
   ]
  },
  {
   "cell_type": "code",
   "execution_count": 39,
   "id": "94dd55c7",
   "metadata": {},
   "outputs": [],
   "source": [
    "## Independent Features\n",
    "\n",
    "x=pd.DataFrame(df, columns=['RH','Ws','Rain','FFMC','DMC','DC','ISI','BUI','FWI','region'])  \n",
    "\n",
    "## Dependent Features\n",
    "\n",
    "y=pd.DataFrame(df,columns=['Temperature'])\n"
   ]
  },
  {
   "cell_type": "code",
   "execution_count": 40,
   "id": "3714aef8",
   "metadata": {},
   "outputs": [
    {
     "data": {
      "text/html": [
       "<div>\n",
       "<style scoped>\n",
       "    .dataframe tbody tr th:only-of-type {\n",
       "        vertical-align: middle;\n",
       "    }\n",
       "\n",
       "    .dataframe tbody tr th {\n",
       "        vertical-align: top;\n",
       "    }\n",
       "\n",
       "    .dataframe thead th {\n",
       "        text-align: right;\n",
       "    }\n",
       "</style>\n",
       "<table border=\"1\" class=\"dataframe\">\n",
       "  <thead>\n",
       "    <tr style=\"text-align: right;\">\n",
       "      <th></th>\n",
       "      <th>RH</th>\n",
       "      <th>Ws</th>\n",
       "      <th>Rain</th>\n",
       "      <th>FFMC</th>\n",
       "      <th>DMC</th>\n",
       "      <th>DC</th>\n",
       "      <th>ISI</th>\n",
       "      <th>BUI</th>\n",
       "      <th>FWI</th>\n",
       "      <th>region</th>\n",
       "    </tr>\n",
       "  </thead>\n",
       "  <tbody>\n",
       "    <tr>\n",
       "      <th>0</th>\n",
       "      <td>57</td>\n",
       "      <td>18.0</td>\n",
       "      <td>0.0</td>\n",
       "      <td>65.7</td>\n",
       "      <td>3.4</td>\n",
       "      <td>150</td>\n",
       "      <td>1.3</td>\n",
       "      <td>3.4</td>\n",
       "      <td>5</td>\n",
       "      <td>1</td>\n",
       "    </tr>\n",
       "    <tr>\n",
       "      <th>1</th>\n",
       "      <td>61</td>\n",
       "      <td>13.0</td>\n",
       "      <td>1.3</td>\n",
       "      <td>64.4</td>\n",
       "      <td>4.1</td>\n",
       "      <td>150</td>\n",
       "      <td>1.0</td>\n",
       "      <td>3.9</td>\n",
       "      <td>4</td>\n",
       "      <td>1</td>\n",
       "    </tr>\n",
       "    <tr>\n",
       "      <th>2</th>\n",
       "      <td>82</td>\n",
       "      <td>22.0</td>\n",
       "      <td>13.1</td>\n",
       "      <td>47.1</td>\n",
       "      <td>2.5</td>\n",
       "      <td>146</td>\n",
       "      <td>0.3</td>\n",
       "      <td>2.7</td>\n",
       "      <td>1</td>\n",
       "      <td>1</td>\n",
       "    </tr>\n",
       "    <tr>\n",
       "      <th>3</th>\n",
       "      <td>89</td>\n",
       "      <td>13.0</td>\n",
       "      <td>2.5</td>\n",
       "      <td>28.6</td>\n",
       "      <td>1.3</td>\n",
       "      <td>136</td>\n",
       "      <td>0.0</td>\n",
       "      <td>1.7</td>\n",
       "      <td>0</td>\n",
       "      <td>1</td>\n",
       "    </tr>\n",
       "    <tr>\n",
       "      <th>4</th>\n",
       "      <td>77</td>\n",
       "      <td>16.0</td>\n",
       "      <td>0.0</td>\n",
       "      <td>64.8</td>\n",
       "      <td>3.0</td>\n",
       "      <td>18</td>\n",
       "      <td>1.2</td>\n",
       "      <td>3.9</td>\n",
       "      <td>5</td>\n",
       "      <td>1</td>\n",
       "    </tr>\n",
       "    <tr>\n",
       "      <th>...</th>\n",
       "      <td>...</td>\n",
       "      <td>...</td>\n",
       "      <td>...</td>\n",
       "      <td>...</td>\n",
       "      <td>...</td>\n",
       "      <td>...</td>\n",
       "      <td>...</td>\n",
       "      <td>...</td>\n",
       "      <td>...</td>\n",
       "      <td>...</td>\n",
       "    </tr>\n",
       "    <tr>\n",
       "      <th>239</th>\n",
       "      <td>65</td>\n",
       "      <td>14.0</td>\n",
       "      <td>0.0</td>\n",
       "      <td>85.4</td>\n",
       "      <td>16.0</td>\n",
       "      <td>112</td>\n",
       "      <td>4.5</td>\n",
       "      <td>16.9</td>\n",
       "      <td>106</td>\n",
       "      <td>0</td>\n",
       "    </tr>\n",
       "    <tr>\n",
       "      <th>240</th>\n",
       "      <td>87</td>\n",
       "      <td>15.0</td>\n",
       "      <td>4.4</td>\n",
       "      <td>41.1</td>\n",
       "      <td>6.5</td>\n",
       "      <td>164</td>\n",
       "      <td>0.1</td>\n",
       "      <td>6.2</td>\n",
       "      <td>0</td>\n",
       "      <td>0</td>\n",
       "    </tr>\n",
       "    <tr>\n",
       "      <th>241</th>\n",
       "      <td>87</td>\n",
       "      <td>29.0</td>\n",
       "      <td>0.5</td>\n",
       "      <td>45.9</td>\n",
       "      <td>3.5</td>\n",
       "      <td>153</td>\n",
       "      <td>0.4</td>\n",
       "      <td>3.4</td>\n",
       "      <td>2</td>\n",
       "      <td>0</td>\n",
       "    </tr>\n",
       "    <tr>\n",
       "      <th>242</th>\n",
       "      <td>54</td>\n",
       "      <td>18.0</td>\n",
       "      <td>0.1</td>\n",
       "      <td>79.7</td>\n",
       "      <td>4.3</td>\n",
       "      <td>25</td>\n",
       "      <td>1.7</td>\n",
       "      <td>5.1</td>\n",
       "      <td>7</td>\n",
       "      <td>0</td>\n",
       "    </tr>\n",
       "    <tr>\n",
       "      <th>243</th>\n",
       "      <td>64</td>\n",
       "      <td>15.0</td>\n",
       "      <td>0.2</td>\n",
       "      <td>67.3</td>\n",
       "      <td>3.8</td>\n",
       "      <td>34</td>\n",
       "      <td>1.2</td>\n",
       "      <td>4.8</td>\n",
       "      <td>5</td>\n",
       "      <td>0</td>\n",
       "    </tr>\n",
       "  </tbody>\n",
       "</table>\n",
       "<p>244 rows × 10 columns</p>\n",
       "</div>"
      ],
      "text/plain": [
       "     RH    Ws  Rain  FFMC   DMC   DC  ISI   BUI  FWI  region\n",
       "0    57  18.0   0.0  65.7   3.4  150  1.3   3.4    5       1\n",
       "1    61  13.0   1.3  64.4   4.1  150  1.0   3.9    4       1\n",
       "2    82  22.0  13.1  47.1   2.5  146  0.3   2.7    1       1\n",
       "3    89  13.0   2.5  28.6   1.3  136  0.0   1.7    0       1\n",
       "4    77  16.0   0.0  64.8   3.0   18  1.2   3.9    5       1\n",
       "..   ..   ...   ...   ...   ...  ...  ...   ...  ...     ...\n",
       "239  65  14.0   0.0  85.4  16.0  112  4.5  16.9  106       0\n",
       "240  87  15.0   4.4  41.1   6.5  164  0.1   6.2    0       0\n",
       "241  87  29.0   0.5  45.9   3.5  153  0.4   3.4    2       0\n",
       "242  54  18.0   0.1  79.7   4.3   25  1.7   5.1    7       0\n",
       "243  64  15.0   0.2  67.3   3.8   34  1.2   4.8    5       0\n",
       "\n",
       "[244 rows x 10 columns]"
      ]
     },
     "execution_count": 40,
     "metadata": {},
     "output_type": "execute_result"
    }
   ],
   "source": [
    "x"
   ]
  },
  {
   "cell_type": "code",
   "execution_count": 41,
   "id": "3965d4fc",
   "metadata": {},
   "outputs": [
    {
     "data": {
      "text/html": [
       "<div>\n",
       "<style scoped>\n",
       "    .dataframe tbody tr th:only-of-type {\n",
       "        vertical-align: middle;\n",
       "    }\n",
       "\n",
       "    .dataframe tbody tr th {\n",
       "        vertical-align: top;\n",
       "    }\n",
       "\n",
       "    .dataframe thead th {\n",
       "        text-align: right;\n",
       "    }\n",
       "</style>\n",
       "<table border=\"1\" class=\"dataframe\">\n",
       "  <thead>\n",
       "    <tr style=\"text-align: right;\">\n",
       "      <th></th>\n",
       "      <th>Temperature</th>\n",
       "    </tr>\n",
       "  </thead>\n",
       "  <tbody>\n",
       "    <tr>\n",
       "      <th>0</th>\n",
       "      <td>29</td>\n",
       "    </tr>\n",
       "    <tr>\n",
       "      <th>1</th>\n",
       "      <td>29</td>\n",
       "    </tr>\n",
       "    <tr>\n",
       "      <th>2</th>\n",
       "      <td>26</td>\n",
       "    </tr>\n",
       "    <tr>\n",
       "      <th>3</th>\n",
       "      <td>25</td>\n",
       "    </tr>\n",
       "    <tr>\n",
       "      <th>4</th>\n",
       "      <td>27</td>\n",
       "    </tr>\n",
       "    <tr>\n",
       "      <th>...</th>\n",
       "      <td>...</td>\n",
       "    </tr>\n",
       "    <tr>\n",
       "      <th>239</th>\n",
       "      <td>30</td>\n",
       "    </tr>\n",
       "    <tr>\n",
       "      <th>240</th>\n",
       "      <td>28</td>\n",
       "    </tr>\n",
       "    <tr>\n",
       "      <th>241</th>\n",
       "      <td>27</td>\n",
       "    </tr>\n",
       "    <tr>\n",
       "      <th>242</th>\n",
       "      <td>24</td>\n",
       "    </tr>\n",
       "    <tr>\n",
       "      <th>243</th>\n",
       "      <td>24</td>\n",
       "    </tr>\n",
       "  </tbody>\n",
       "</table>\n",
       "<p>244 rows × 1 columns</p>\n",
       "</div>"
      ],
      "text/plain": [
       "     Temperature\n",
       "0             29\n",
       "1             29\n",
       "2             26\n",
       "3             25\n",
       "4             27\n",
       "..           ...\n",
       "239           30\n",
       "240           28\n",
       "241           27\n",
       "242           24\n",
       "243           24\n",
       "\n",
       "[244 rows x 1 columns]"
      ]
     },
     "execution_count": 41,
     "metadata": {},
     "output_type": "execute_result"
    }
   ],
   "source": [
    "y"
   ]
  },
  {
   "cell_type": "markdown",
   "id": "634bda84",
   "metadata": {},
   "source": [
    "# Train data & Test data Split"
   ]
  },
  {
   "cell_type": "code",
   "execution_count": 42,
   "id": "aeebade2",
   "metadata": {},
   "outputs": [],
   "source": [
    "from sklearn.model_selection import train_test_split\n",
    "\n",
    "x_train,x_test,y_train,y_test=train_test_split(\n",
    "x,y,test_size=0.33,random_state=10)"
   ]
  },
  {
   "cell_type": "code",
   "execution_count": 43,
   "id": "0a258a2b",
   "metadata": {},
   "outputs": [
    {
     "data": {
      "text/plain": [
       "(163, 10)"
      ]
     },
     "execution_count": 43,
     "metadata": {},
     "output_type": "execute_result"
    }
   ],
   "source": [
    "x_train.shape"
   ]
  },
  {
   "cell_type": "code",
   "execution_count": 44,
   "id": "872094c5",
   "metadata": {},
   "outputs": [
    {
     "data": {
      "text/plain": [
       "(81, 10)"
      ]
     },
     "execution_count": 44,
     "metadata": {},
     "output_type": "execute_result"
    }
   ],
   "source": [
    "x_test.shape\n"
   ]
  },
  {
   "cell_type": "code",
   "execution_count": 45,
   "id": "e1f9a9c4",
   "metadata": {},
   "outputs": [
    {
     "data": {
      "text/plain": [
       "(163, 1)"
      ]
     },
     "execution_count": 45,
     "metadata": {},
     "output_type": "execute_result"
    }
   ],
   "source": [
    "y_train.shape"
   ]
  },
  {
   "cell_type": "code",
   "execution_count": 46,
   "id": "d81a8198",
   "metadata": {},
   "outputs": [
    {
     "data": {
      "text/plain": [
       "(81, 1)"
      ]
     },
     "execution_count": 46,
     "metadata": {},
     "output_type": "execute_result"
    }
   ],
   "source": [
    "y_test.shape"
   ]
  },
  {
   "cell_type": "code",
   "execution_count": 47,
   "id": "dcd585cc",
   "metadata": {},
   "outputs": [
    {
     "data": {
      "text/html": [
       "<div>\n",
       "<style scoped>\n",
       "    .dataframe tbody tr th:only-of-type {\n",
       "        vertical-align: middle;\n",
       "    }\n",
       "\n",
       "    .dataframe tbody tr th {\n",
       "        vertical-align: top;\n",
       "    }\n",
       "\n",
       "    .dataframe thead th {\n",
       "        text-align: right;\n",
       "    }\n",
       "</style>\n",
       "<table border=\"1\" class=\"dataframe\">\n",
       "  <thead>\n",
       "    <tr style=\"text-align: right;\">\n",
       "      <th></th>\n",
       "      <th>RH</th>\n",
       "      <th>Ws</th>\n",
       "      <th>Rain</th>\n",
       "      <th>FFMC</th>\n",
       "      <th>DMC</th>\n",
       "      <th>DC</th>\n",
       "      <th>ISI</th>\n",
       "      <th>BUI</th>\n",
       "      <th>FWI</th>\n",
       "      <th>region</th>\n",
       "    </tr>\n",
       "  </thead>\n",
       "  <tbody>\n",
       "    <tr>\n",
       "      <th>237</th>\n",
       "      <td>49</td>\n",
       "      <td>6.0</td>\n",
       "      <td>2.0</td>\n",
       "      <td>61.3</td>\n",
       "      <td>11.9</td>\n",
       "      <td>77</td>\n",
       "      <td>0.6</td>\n",
       "      <td>11.9</td>\n",
       "      <td>4</td>\n",
       "      <td>0</td>\n",
       "    </tr>\n",
       "    <tr>\n",
       "      <th>78</th>\n",
       "      <td>54</td>\n",
       "      <td>18.0</td>\n",
       "      <td>0.0</td>\n",
       "      <td>89.4</td>\n",
       "      <td>20.0</td>\n",
       "      <td>8</td>\n",
       "      <td>9.7</td>\n",
       "      <td>27.5</td>\n",
       "      <td>47</td>\n",
       "      <td>1</td>\n",
       "    </tr>\n",
       "    <tr>\n",
       "      <th>25</th>\n",
       "      <td>64</td>\n",
       "      <td>18.0</td>\n",
       "      <td>0.0</td>\n",
       "      <td>86.8</td>\n",
       "      <td>17.8</td>\n",
       "      <td>157</td>\n",
       "      <td>6.7</td>\n",
       "      <td>21.6</td>\n",
       "      <td>20</td>\n",
       "      <td>1</td>\n",
       "    </tr>\n",
       "    <tr>\n",
       "      <th>124</th>\n",
       "      <td>80</td>\n",
       "      <td>14.0</td>\n",
       "      <td>2.0</td>\n",
       "      <td>48.7</td>\n",
       "      <td>2.2</td>\n",
       "      <td>150</td>\n",
       "      <td>0.3</td>\n",
       "      <td>2.6</td>\n",
       "      <td>1</td>\n",
       "      <td>0</td>\n",
       "    </tr>\n",
       "    <tr>\n",
       "      <th>176</th>\n",
       "      <td>64</td>\n",
       "      <td>9.0</td>\n",
       "      <td>1.2</td>\n",
       "      <td>73.8</td>\n",
       "      <td>11.7</td>\n",
       "      <td>28</td>\n",
       "      <td>1.1</td>\n",
       "      <td>11.4</td>\n",
       "      <td>7</td>\n",
       "      <td>0</td>\n",
       "    </tr>\n",
       "    <tr>\n",
       "      <th>...</th>\n",
       "      <td>...</td>\n",
       "      <td>...</td>\n",
       "      <td>...</td>\n",
       "      <td>...</td>\n",
       "      <td>...</td>\n",
       "      <td>...</td>\n",
       "      <td>...</td>\n",
       "      <td>...</td>\n",
       "      <td>...</td>\n",
       "      <td>...</td>\n",
       "    </tr>\n",
       "    <tr>\n",
       "      <th>64</th>\n",
       "      <td>69</td>\n",
       "      <td>13.0</td>\n",
       "      <td>0.0</td>\n",
       "      <td>85.0</td>\n",
       "      <td>8.2</td>\n",
       "      <td>53</td>\n",
       "      <td>4.0</td>\n",
       "      <td>8.2</td>\n",
       "      <td>86</td>\n",
       "      <td>1</td>\n",
       "    </tr>\n",
       "    <tr>\n",
       "      <th>15</th>\n",
       "      <td>89</td>\n",
       "      <td>13.0</td>\n",
       "      <td>0.7</td>\n",
       "      <td>36.1</td>\n",
       "      <td>1.7</td>\n",
       "      <td>150</td>\n",
       "      <td>0.0</td>\n",
       "      <td>2.2</td>\n",
       "      <td>0</td>\n",
       "      <td>1</td>\n",
       "    </tr>\n",
       "    <tr>\n",
       "      <th>228</th>\n",
       "      <td>51</td>\n",
       "      <td>13.0</td>\n",
       "      <td>0.0</td>\n",
       "      <td>88.7</td>\n",
       "      <td>16.0</td>\n",
       "      <td>122</td>\n",
       "      <td>6.9</td>\n",
       "      <td>17.8</td>\n",
       "      <td>124</td>\n",
       "      <td>0</td>\n",
       "    </tr>\n",
       "    <tr>\n",
       "      <th>125</th>\n",
       "      <td>64</td>\n",
       "      <td>14.0</td>\n",
       "      <td>0.0</td>\n",
       "      <td>79.4</td>\n",
       "      <td>5.2</td>\n",
       "      <td>26</td>\n",
       "      <td>2.2</td>\n",
       "      <td>5.6</td>\n",
       "      <td>10</td>\n",
       "      <td>0</td>\n",
       "    </tr>\n",
       "    <tr>\n",
       "      <th>9</th>\n",
       "      <td>79</td>\n",
       "      <td>12.0</td>\n",
       "      <td>0.0</td>\n",
       "      <td>73.2</td>\n",
       "      <td>9.5</td>\n",
       "      <td>114</td>\n",
       "      <td>1.3</td>\n",
       "      <td>12.6</td>\n",
       "      <td>9</td>\n",
       "      <td>1</td>\n",
       "    </tr>\n",
       "  </tbody>\n",
       "</table>\n",
       "<p>163 rows × 10 columns</p>\n",
       "</div>"
      ],
      "text/plain": [
       "     RH    Ws  Rain  FFMC   DMC   DC  ISI   BUI  FWI  region\n",
       "237  49   6.0   2.0  61.3  11.9   77  0.6  11.9    4       0\n",
       "78   54  18.0   0.0  89.4  20.0    8  9.7  27.5   47       1\n",
       "25   64  18.0   0.0  86.8  17.8  157  6.7  21.6   20       1\n",
       "124  80  14.0   2.0  48.7   2.2  150  0.3   2.6    1       0\n",
       "176  64   9.0   1.2  73.8  11.7   28  1.1  11.4    7       0\n",
       "..   ..   ...   ...   ...   ...  ...  ...   ...  ...     ...\n",
       "64   69  13.0   0.0  85.0   8.2   53  4.0   8.2   86       1\n",
       "15   89  13.0   0.7  36.1   1.7  150  0.0   2.2    0       1\n",
       "228  51  13.0   0.0  88.7  16.0  122  6.9  17.8  124       0\n",
       "125  64  14.0   0.0  79.4   5.2   26  2.2   5.6   10       0\n",
       "9    79  12.0   0.0  73.2   9.5  114  1.3  12.6    9       1\n",
       "\n",
       "[163 rows x 10 columns]"
      ]
     },
     "execution_count": 47,
     "metadata": {},
     "output_type": "execute_result"
    }
   ],
   "source": [
    "x_train"
   ]
  },
  {
   "cell_type": "code",
   "execution_count": 48,
   "id": "6d88132f",
   "metadata": {},
   "outputs": [
    {
     "data": {
      "text/html": [
       "<div>\n",
       "<style scoped>\n",
       "    .dataframe tbody tr th:only-of-type {\n",
       "        vertical-align: middle;\n",
       "    }\n",
       "\n",
       "    .dataframe tbody tr th {\n",
       "        vertical-align: top;\n",
       "    }\n",
       "\n",
       "    .dataframe thead th {\n",
       "        text-align: right;\n",
       "    }\n",
       "</style>\n",
       "<table border=\"1\" class=\"dataframe\">\n",
       "  <thead>\n",
       "    <tr style=\"text-align: right;\">\n",
       "      <th></th>\n",
       "      <th>RH</th>\n",
       "      <th>Ws</th>\n",
       "      <th>Rain</th>\n",
       "      <th>FFMC</th>\n",
       "      <th>DMC</th>\n",
       "      <th>DC</th>\n",
       "      <th>ISI</th>\n",
       "      <th>BUI</th>\n",
       "      <th>FWI</th>\n",
       "      <th>region</th>\n",
       "    </tr>\n",
       "  </thead>\n",
       "  <tbody>\n",
       "    <tr>\n",
       "      <th>162</th>\n",
       "      <td>56</td>\n",
       "      <td>15.0</td>\n",
       "      <td>2.9</td>\n",
       "      <td>74.8</td>\n",
       "      <td>7.1</td>\n",
       "      <td>185</td>\n",
       "      <td>1.6</td>\n",
       "      <td>6.8</td>\n",
       "      <td>8</td>\n",
       "      <td>0</td>\n",
       "    </tr>\n",
       "    <tr>\n",
       "      <th>60</th>\n",
       "      <td>64</td>\n",
       "      <td>17.0</td>\n",
       "      <td>0.0</td>\n",
       "      <td>87.2</td>\n",
       "      <td>31.9</td>\n",
       "      <td>22</td>\n",
       "      <td>6.8</td>\n",
       "      <td>41.2</td>\n",
       "      <td>45</td>\n",
       "      <td>1</td>\n",
       "    </tr>\n",
       "    <tr>\n",
       "      <th>61</th>\n",
       "      <td>45</td>\n",
       "      <td>14.0</td>\n",
       "      <td>0.0</td>\n",
       "      <td>78.8</td>\n",
       "      <td>4.8</td>\n",
       "      <td>1</td>\n",
       "      <td>2.0</td>\n",
       "      <td>4.7</td>\n",
       "      <td>9</td>\n",
       "      <td>1</td>\n",
       "    </tr>\n",
       "    <tr>\n",
       "      <th>63</th>\n",
       "      <td>63</td>\n",
       "      <td>14.0</td>\n",
       "      <td>0.3</td>\n",
       "      <td>76.6</td>\n",
       "      <td>5.7</td>\n",
       "      <td>0</td>\n",
       "      <td>1.7</td>\n",
       "      <td>5.5</td>\n",
       "      <td>8</td>\n",
       "      <td>1</td>\n",
       "    </tr>\n",
       "    <tr>\n",
       "      <th>69</th>\n",
       "      <td>59</td>\n",
       "      <td>17.0</td>\n",
       "      <td>0.0</td>\n",
       "      <td>87.4</td>\n",
       "      <td>14.8</td>\n",
       "      <td>132</td>\n",
       "      <td>6.9</td>\n",
       "      <td>17.9</td>\n",
       "      <td>125</td>\n",
       "      <td>1</td>\n",
       "    </tr>\n",
       "    <tr>\n",
       "      <th>...</th>\n",
       "      <td>...</td>\n",
       "      <td>...</td>\n",
       "      <td>...</td>\n",
       "      <td>...</td>\n",
       "      <td>...</td>\n",
       "      <td>...</td>\n",
       "      <td>...</td>\n",
       "      <td>...</td>\n",
       "      <td>...</td>\n",
       "      <td>...</td>\n",
       "    </tr>\n",
       "    <tr>\n",
       "      <th>169</th>\n",
       "      <td>68</td>\n",
       "      <td>15.0</td>\n",
       "      <td>0.0</td>\n",
       "      <td>86.1</td>\n",
       "      <td>23.9</td>\n",
       "      <td>123</td>\n",
       "      <td>5.2</td>\n",
       "      <td>23.9</td>\n",
       "      <td>120</td>\n",
       "      <td>0</td>\n",
       "    </tr>\n",
       "    <tr>\n",
       "      <th>232</th>\n",
       "      <td>41</td>\n",
       "      <td>8.0</td>\n",
       "      <td>0.1</td>\n",
       "      <td>83.9</td>\n",
       "      <td>24.9</td>\n",
       "      <td>177</td>\n",
       "      <td>2.7</td>\n",
       "      <td>28.9</td>\n",
       "      <td>99</td>\n",
       "      <td>0</td>\n",
       "    </tr>\n",
       "    <tr>\n",
       "      <th>144</th>\n",
       "      <td>59</td>\n",
       "      <td>16.0</td>\n",
       "      <td>0.8</td>\n",
       "      <td>74.2</td>\n",
       "      <td>7.0</td>\n",
       "      <td>166</td>\n",
       "      <td>1.6</td>\n",
       "      <td>6.7</td>\n",
       "      <td>8</td>\n",
       "      <td>0</td>\n",
       "    </tr>\n",
       "    <tr>\n",
       "      <th>208</th>\n",
       "      <td>37</td>\n",
       "      <td>16.0</td>\n",
       "      <td>0.0</td>\n",
       "      <td>92.2</td>\n",
       "      <td>61.3</td>\n",
       "      <td>38</td>\n",
       "      <td>13.1</td>\n",
       "      <td>64.0</td>\n",
       "      <td>89</td>\n",
       "      <td>0</td>\n",
       "    </tr>\n",
       "    <tr>\n",
       "      <th>105</th>\n",
       "      <td>76</td>\n",
       "      <td>26.0</td>\n",
       "      <td>8.3</td>\n",
       "      <td>47.4</td>\n",
       "      <td>1.1</td>\n",
       "      <td>145</td>\n",
       "      <td>0.4</td>\n",
       "      <td>1.6</td>\n",
       "      <td>1</td>\n",
       "      <td>1</td>\n",
       "    </tr>\n",
       "  </tbody>\n",
       "</table>\n",
       "<p>81 rows × 10 columns</p>\n",
       "</div>"
      ],
      "text/plain": [
       "     RH    Ws  Rain  FFMC   DMC   DC   ISI   BUI  FWI  region\n",
       "162  56  15.0   2.9  74.8   7.1  185   1.6   6.8    8       0\n",
       "60   64  17.0   0.0  87.2  31.9   22   6.8  41.2   45       1\n",
       "61   45  14.0   0.0  78.8   4.8    1   2.0   4.7    9       1\n",
       "63   63  14.0   0.3  76.6   5.7    0   1.7   5.5    8       1\n",
       "69   59  17.0   0.0  87.4  14.8  132   6.9  17.9  125       1\n",
       "..   ..   ...   ...   ...   ...  ...   ...   ...  ...     ...\n",
       "169  68  15.0   0.0  86.1  23.9  123   5.2  23.9  120       0\n",
       "232  41   8.0   0.1  83.9  24.9  177   2.7  28.9   99       0\n",
       "144  59  16.0   0.8  74.2   7.0  166   1.6   6.7    8       0\n",
       "208  37  16.0   0.0  92.2  61.3   38  13.1  64.0   89       0\n",
       "105  76  26.0   8.3  47.4   1.1  145   0.4   1.6    1       1\n",
       "\n",
       "[81 rows x 10 columns]"
      ]
     },
     "execution_count": 48,
     "metadata": {},
     "output_type": "execute_result"
    }
   ],
   "source": [
    "x_test"
   ]
  },
  {
   "cell_type": "code",
   "execution_count": 49,
   "id": "a2c3ccda",
   "metadata": {},
   "outputs": [
    {
     "data": {
      "text/html": [
       "<div>\n",
       "<style scoped>\n",
       "    .dataframe tbody tr th:only-of-type {\n",
       "        vertical-align: middle;\n",
       "    }\n",
       "\n",
       "    .dataframe tbody tr th {\n",
       "        vertical-align: top;\n",
       "    }\n",
       "\n",
       "    .dataframe thead th {\n",
       "        text-align: right;\n",
       "    }\n",
       "</style>\n",
       "<table border=\"1\" class=\"dataframe\">\n",
       "  <thead>\n",
       "    <tr style=\"text-align: right;\">\n",
       "      <th></th>\n",
       "      <th>Temperature</th>\n",
       "    </tr>\n",
       "  </thead>\n",
       "  <tbody>\n",
       "    <tr>\n",
       "      <th>162</th>\n",
       "      <td>34</td>\n",
       "    </tr>\n",
       "    <tr>\n",
       "      <th>60</th>\n",
       "      <td>35</td>\n",
       "    </tr>\n",
       "    <tr>\n",
       "      <th>61</th>\n",
       "      <td>36</td>\n",
       "    </tr>\n",
       "    <tr>\n",
       "      <th>63</th>\n",
       "      <td>35</td>\n",
       "    </tr>\n",
       "    <tr>\n",
       "      <th>69</th>\n",
       "      <td>35</td>\n",
       "    </tr>\n",
       "    <tr>\n",
       "      <th>...</th>\n",
       "      <td>...</td>\n",
       "    </tr>\n",
       "    <tr>\n",
       "      <th>169</th>\n",
       "      <td>33</td>\n",
       "    </tr>\n",
       "    <tr>\n",
       "      <th>232</th>\n",
       "      <td>29</td>\n",
       "    </tr>\n",
       "    <tr>\n",
       "      <th>144</th>\n",
       "      <td>33</td>\n",
       "    </tr>\n",
       "    <tr>\n",
       "      <th>208</th>\n",
       "      <td>33</td>\n",
       "    </tr>\n",
       "    <tr>\n",
       "      <th>105</th>\n",
       "      <td>22</td>\n",
       "    </tr>\n",
       "  </tbody>\n",
       "</table>\n",
       "<p>81 rows × 1 columns</p>\n",
       "</div>"
      ],
      "text/plain": [
       "     Temperature\n",
       "162           34\n",
       "60            35\n",
       "61            36\n",
       "63            35\n",
       "69            35\n",
       "..           ...\n",
       "169           33\n",
       "232           29\n",
       "144           33\n",
       "208           33\n",
       "105           22\n",
       "\n",
       "[81 rows x 1 columns]"
      ]
     },
     "execution_count": 49,
     "metadata": {},
     "output_type": "execute_result"
    }
   ],
   "source": [
    "y_test"
   ]
  },
  {
   "cell_type": "code",
   "execution_count": 50,
   "id": "7bb37a24",
   "metadata": {},
   "outputs": [
    {
     "data": {
      "text/html": [
       "<div>\n",
       "<style scoped>\n",
       "    .dataframe tbody tr th:only-of-type {\n",
       "        vertical-align: middle;\n",
       "    }\n",
       "\n",
       "    .dataframe tbody tr th {\n",
       "        vertical-align: top;\n",
       "    }\n",
       "\n",
       "    .dataframe thead th {\n",
       "        text-align: right;\n",
       "    }\n",
       "</style>\n",
       "<table border=\"1\" class=\"dataframe\">\n",
       "  <thead>\n",
       "    <tr style=\"text-align: right;\">\n",
       "      <th></th>\n",
       "      <th>Temperature</th>\n",
       "    </tr>\n",
       "  </thead>\n",
       "  <tbody>\n",
       "    <tr>\n",
       "      <th>237</th>\n",
       "      <td>26</td>\n",
       "    </tr>\n",
       "    <tr>\n",
       "      <th>78</th>\n",
       "      <td>36</td>\n",
       "    </tr>\n",
       "    <tr>\n",
       "      <th>25</th>\n",
       "      <td>31</td>\n",
       "    </tr>\n",
       "    <tr>\n",
       "      <th>124</th>\n",
       "      <td>29</td>\n",
       "    </tr>\n",
       "    <tr>\n",
       "      <th>176</th>\n",
       "      <td>39</td>\n",
       "    </tr>\n",
       "    <tr>\n",
       "      <th>...</th>\n",
       "      <td>...</td>\n",
       "    </tr>\n",
       "    <tr>\n",
       "      <th>64</th>\n",
       "      <td>34</td>\n",
       "    </tr>\n",
       "    <tr>\n",
       "      <th>15</th>\n",
       "      <td>29</td>\n",
       "    </tr>\n",
       "    <tr>\n",
       "      <th>228</th>\n",
       "      <td>32</td>\n",
       "    </tr>\n",
       "    <tr>\n",
       "      <th>125</th>\n",
       "      <td>30</td>\n",
       "    </tr>\n",
       "    <tr>\n",
       "      <th>9</th>\n",
       "      <td>28</td>\n",
       "    </tr>\n",
       "  </tbody>\n",
       "</table>\n",
       "<p>163 rows × 1 columns</p>\n",
       "</div>"
      ],
      "text/plain": [
       "     Temperature\n",
       "237           26\n",
       "78            36\n",
       "25            31\n",
       "124           29\n",
       "176           39\n",
       "..           ...\n",
       "64            34\n",
       "15            29\n",
       "228           32\n",
       "125           30\n",
       "9             28\n",
       "\n",
       "[163 rows x 1 columns]"
      ]
     },
     "execution_count": 50,
     "metadata": {},
     "output_type": "execute_result"
    }
   ],
   "source": [
    "y_train"
   ]
  },
  {
   "cell_type": "markdown",
   "id": "9b68326b",
   "metadata": {},
   "source": [
    "# Standardizing or Feature Scaling\n"
   ]
  },
  {
   "cell_type": "code",
   "execution_count": 51,
   "id": "33de7d4e",
   "metadata": {},
   "outputs": [],
   "source": [
    "from sklearn.preprocessing import StandardScaler\n",
    "scaler=StandardScaler()  ## Initialising"
   ]
  },
  {
   "cell_type": "code",
   "execution_count": 52,
   "id": "c6a279a3",
   "metadata": {},
   "outputs": [
    {
     "data": {
      "text/plain": [
       "StandardScaler()"
      ]
     },
     "execution_count": 52,
     "metadata": {},
     "output_type": "execute_result"
    }
   ],
   "source": [
    "scaler"
   ]
  },
  {
   "cell_type": "code",
   "execution_count": 53,
   "id": "45362d9a",
   "metadata": {},
   "outputs": [],
   "source": [
    "x_train=scaler.fit_transform(x_train)\n"
   ]
  },
  {
   "cell_type": "code",
   "execution_count": 54,
   "id": "02f7d394",
   "metadata": {},
   "outputs": [],
   "source": [
    "x_test=scaler.transform(x_test)"
   ]
  },
  {
   "cell_type": "code",
   "execution_count": 55,
   "id": "1454acab",
   "metadata": {},
   "outputs": [
    {
     "data": {
      "text/plain": [
       "array([[-0.85631108, -3.36419461,  0.88853946, ..., -0.32535487,\n",
       "        -1.03738328, -0.98176139],\n",
       "       [-0.52508491,  0.99944243, -0.441414  , ...,  0.76565444,\n",
       "        -0.01141751,  1.01857744],\n",
       "       [ 0.13736742,  0.99944243, -0.441414  , ...,  0.35302912,\n",
       "        -0.65562857,  1.01857744],\n",
       "       ...,\n",
       "       [-0.72382061, -0.81873967, -0.441414  , ...,  0.08727045,\n",
       "         1.825777  , -0.98176139],\n",
       "       [ 0.13736742, -0.45510325, -0.441414  , ..., -0.76595478,\n",
       "        -0.89422526, -0.98176139],\n",
       "       [ 1.13104591, -1.18237609, -0.441414  , ..., -0.27639932,\n",
       "        -0.91808493,  1.01857744]])"
      ]
     },
     "execution_count": 55,
     "metadata": {},
     "output_type": "execute_result"
    }
   ],
   "source": [
    "x_train"
   ]
  },
  {
   "cell_type": "code",
   "execution_count": 56,
   "id": "367c3181",
   "metadata": {},
   "outputs": [
    {
     "data": {
      "text/plain": [
       "array([[-3.92594448e-01, -9.14668296e-02,  1.48701853e+00,\n",
       "        -1.82411230e-01, -6.02677495e-01,  1.41938909e+00,\n",
       "        -7.33442383e-01, -6.82030988e-01, -9.41944600e-01,\n",
       "        -9.81761387e-01],\n",
       "       [ 1.37367416e-01,  6.35806011e-01, -4.41414004e-01,\n",
       "         6.64566895e-01,  1.37979749e+00, -1.44016117e+00,\n",
       "         4.94418103e-01,  1.72378441e+00, -5.91368483e-02,\n",
       "         1.01857744e+00],\n",
       "       [-1.12129201e+00, -4.55103250e-01, -4.41414004e-01,\n",
       "         9.08075201e-02, -7.86536062e-01, -1.80856948e+00,\n",
       "        -6.38991577e-01, -8.28897625e-01, -9.18084931e-01,\n",
       "         1.01857744e+00],\n",
       "       [ 7.11221826e-02, -4.55103250e-01, -2.41920984e-01,\n",
       "        -5.94627923e-02, -7.14591405e-01, -1.82611273e+00,\n",
       "        -7.09829682e-01, -7.72948430e-01, -9.41944600e-01,\n",
       "         1.01857744e+00],\n",
       "       [-1.93858749e-01,  6.35806011e-01, -4.41414004e-01,\n",
       "         6.78227832e-01,  1.28490116e-02,  4.89596678e-01,\n",
       "         5.18030804e-01,  9.42640966e-02,  1.84963667e+00,\n",
       "         1.01857744e+00],\n",
       "       [-5.91330147e-01,  2.72169591e-01, -4.41414004e-01,\n",
       "         8.21667676e-01,  1.83544698e+00, -1.19455562e+00,\n",
       "         1.34447536e+00,  2.16438432e+00,  5.85074214e-01,\n",
       "         1.01857744e+00],\n",
       "       [-5.91330147e-01,  1.36307885e+00, -4.41414004e-01,\n",
       "         8.01176270e-01,  1.96707579e-01,  1.61236488e+00,\n",
       "         1.25002456e+00,  5.13883061e-01, -1.06856186e-01,\n",
       "         1.01857744e+00],\n",
       "       [-5.91330147e-01,  6.35806011e-01, -1.08925637e-01,\n",
       "         1.86434082e-01,  4.84486205e-01, -1.40507466e+00,\n",
       "        -4.73702665e-01,  9.82457572e-01,  1.27700461e+00,\n",
       "        -9.81761387e-01],\n",
       "       [ 5.34838813e-01, -4.55103250e-01, -4.41414004e-01,\n",
       "         3.64026270e-01, -4.18818928e-01, -2.47219954e-01,\n",
       "        -3.55639157e-01, -3.81304063e-01,  8.47530573e-01,\n",
       "         1.01857744e+00],\n",
       "       [ 7.11221826e-02, -4.55103250e-01, -4.41414004e-01,\n",
       "         6.50905957e-01, -2.98911167e-01, -1.41960435e-01,\n",
       "         2.11065683e-01, -2.83392971e-01,  1.44402230e+00,\n",
       "         1.01857744e+00],\n",
       "       [-3.92594448e-01,  2.72169591e-01, -4.41414004e-01,\n",
       "         7.80684863e-01,  7.32295578e-01,  5.07139931e-01,\n",
       "         8.24995926e-01,  5.06889412e-01, -3.45452876e-01,\n",
       "        -9.81761387e-01],\n",
       "       [ 9.98555444e-01,  2.09035169e+00,  7.55544118e-01,\n",
       "        -1.29577764e+00, -1.01835773e+00,  1.10361054e+00,\n",
       "        -8.51505892e-01, -9.89751562e-01, -1.06124295e+00,\n",
       "         1.01857744e+00],\n",
       "       [-1.84998957e+00,  2.72169591e-01, -3.08418657e-01,\n",
       "         7.39702051e-01,  1.80719877e-01,  1.56274868e-01,\n",
       "         6.59707014e-01,  6.62894990e-02, -6.79488242e-01,\n",
       "        -9.81761387e-01],\n",
       "       [ 6.01084046e-01, -4.55103250e-01,  3.88093477e+00,\n",
       "        -8.85949510e-01, -9.06443823e-01,  1.36675933e+00,\n",
       "        -8.75118593e-01, -9.12821418e-01, -1.03738328e+00,\n",
       "        -9.81761387e-01],\n",
       "       [-9.88801544e-01,  9.99442431e-01,  3.54844640e+00,\n",
       "         2.27416895e-01, -3.86843525e-01,  1.43693235e+00,\n",
       "        -3.79251858e-01, -5.00196103e-01,  7.52091897e-01,\n",
       "        -9.81761387e-01],\n",
       "       [ 5.34838813e-01,  2.72169591e-01, -4.41414004e-01,\n",
       "         5.82601270e-01, -1.47028003e-01, -6.15628269e-01,\n",
       "         1.63840280e-01, -2.69405673e-01,  1.42016263e+00,\n",
       "        -9.81761387e-01],\n",
       "       [-5.25084914e-01, -1.54601251e+00, -3.74916331e-01,\n",
       "         4.25500489e-01, -4.98757435e-01, -5.80541763e-01,\n",
       "        -3.79251858e-01, -5.07189753e-01,  7.75951566e-01,\n",
       "        -9.81761387e-01],\n",
       "       [ 1.06480068e+00, -4.55103250e-01,  4.89553424e-01,\n",
       "        -2.21789092e+00, -1.01835773e+00,  7.87831981e-01,\n",
       "        -1.06402021e+00, -9.89751562e-01, -1.10896228e+00,\n",
       "         1.01857744e+00],\n",
       "       [-1.78374434e+00, -9.14668296e-02, -4.41414004e-01,\n",
       "         1.11537783e+00,  6.68344772e-01,  8.61018558e-02,\n",
       "         2.59594855e+00,  4.43946567e-01,  5.37354876e-01,\n",
       "        -9.81761387e-01],\n",
       "       [-7.90065846e-01,  2.72169591e-01, -4.41414004e-01,\n",
       "         8.48989551e-01,  1.44374829e+00,  8.75548246e-01,\n",
       "         1.13196105e+00,  1.12233056e+00,  1.07880835e-01,\n",
       "        -9.81761387e-01],\n",
       "       [ 2.03612648e-01, -4.55103250e-01, -4.41414004e-01,\n",
       "         4.80144239e-01, -1.71009555e-01,  4.19423665e-01,\n",
       "        -1.66737544e-01, -5.26025410e-02,  1.22928528e+00,\n",
       "         1.01857744e+00],\n",
       "       [-1.93858749e-01,  1.36307885e+00, -4.41414004e-01,\n",
       "         7.94345801e-01,  1.05204961e+00, -1.14192586e+00,\n",
       "         1.20279915e+00,  1.59090507e+00,  2.51038848e-01,\n",
       "        -9.81761387e-01],\n",
       "       [-5.91330147e-01,  9.99442431e-01, -4.41414004e-01,\n",
       "         7.87515332e-01,  5.56430862e-01,  1.20887006e+00,\n",
       "         1.06112294e+00,  6.46762400e-01, -1.54575524e-01,\n",
       "         1.01857744e+00],\n",
       "       [ 4.87694966e-03,  2.72169591e-01, -4.41414004e-01,\n",
       "         7.05549707e-01,  1.48744474e-01, -2.29676700e-01,\n",
       "         5.41643506e-01, -1.06406445e-02,  1.75419799e+00,\n",
       "        -9.81761387e-01],\n",
       "       [-1.91623481e+00,  6.35806011e-01, -4.41414004e-01,\n",
       "         1.10854736e+00,  1.96707579e-01, -3.17392966e-01,\n",
       "         2.95013907e+00,  2.43276025e-02,  2.74898517e-01,\n",
       "        -9.81761387e-01],\n",
       "       [ 1.85974347e+00, -9.14668296e-02, -4.41414004e-01,\n",
       "        -7.28848729e-01, -5.94683644e-01, -1.47524767e+00,\n",
       "        -8.27893190e-01, -6.61050040e-01, -9.89663938e-01,\n",
       "        -9.81761387e-01],\n",
       "       [-6.13682833e-02,  9.99442431e-01, -2.41920984e-01,\n",
       "         1.86434082e-01, -2.34960361e-01,  1.50710536e+00,\n",
       "        -4.50089963e-01,  7.32831484e-02,  1.08612726e+00,\n",
       "         1.01857744e+00],\n",
       "       [-9.88801544e-01, -4.55103250e-01,  2.40697100e-02,\n",
       "         2.01142638e-03, -6.02677495e-01,  1.17378355e+00,\n",
       "        -6.86216980e-01, -6.82030988e-01, -9.18084931e-01,\n",
       "         1.01857744e+00],\n",
       "       [ 1.19729114e+00,  2.72169591e-01,  7.55544118e-01,\n",
       "        -2.05395967e+00, -9.38419226e-01,  8.22918487e-01,\n",
       "        -1.04040750e+00, -9.47789665e-01, -1.10896228e+00,\n",
       "         1.01857744e+00],\n",
       "       [ 1.13104591e+00, -9.14668296e-02, -4.41414004e-01,\n",
       "         5.41618457e-01,  1.10800656e+00, -1.54542068e+00,\n",
       "        -1.44863200e-03,  1.45802573e+00, -6.31768904e-01,\n",
       "         1.01857744e+00],\n",
       "       [ 1.26353638e+00,  2.09035169e+00,  3.41545106e+00,\n",
       "        -1.97199404e+00, -9.30425375e-01,  8.22918487e-01,\n",
       "        -1.01679480e+00, -9.47789665e-01, -1.10896228e+00,\n",
       "         1.01857744e+00],\n",
       "       [ 1.59476254e+00,  2.72169591e-01, -4.41414004e-01,\n",
       "        -2.70285420e+00, -1.09829624e+00,  1.06852403e+00,\n",
       "        -1.08763291e+00, -1.05968806e+00, -1.13282195e+00,\n",
       "        -9.81761387e-01],\n",
       "       [-5.25084914e-01, -8.18739670e-01, -4.41414004e-01,\n",
       "         7.32871582e-01, -3.78849674e-01, -3.70022725e-01,\n",
       "         3.99967296e-01, -3.95291362e-01,  1.51560130e+00,\n",
       "         1.01857744e+00],\n",
       "       [-7.23820613e-01,  2.72169591e-01,  2.08549759e+00,\n",
       "         2.01142638e-03, -5.30732838e-01,  1.41938909e+00,\n",
       "        -6.38991577e-01, -6.19088143e-01, -8.46505925e-01,\n",
       "        -9.81761387e-01],\n",
       "       [ 1.37367416e-01, -9.14668296e-02, -4.41414004e-01,\n",
       "         6.30414551e-01, -3.51140928e-02,  6.47485956e-01,\n",
       "         2.34678385e-01,  1.22238694e-01,  1.65875932e+00,\n",
       "         1.01857744e+00],\n",
       "       [ 3.36103114e-01,  1.36307885e+00, -4.41414004e-01,\n",
       "        -1.41428417e-01, -9.38419226e-01, -1.24718538e+00,\n",
       "        -6.38991577e-01, -8.77853171e-01, -9.41944600e-01,\n",
       "        -9.81761387e-01],\n",
       "       [ 1.19729114e+00,  2.72169591e-01, -1.75423310e-01,\n",
       "        -1.20698154e+00, -8.98449972e-01, -5.45455257e-01,\n",
       "        -8.98731295e-01, -8.00923028e-01, -1.03738328e+00,\n",
       "         1.01857744e+00],\n",
       "       [ 4.87694966e-03, -9.14668296e-02, -4.41414004e-01,\n",
       "         3.98178614e-01, -7.06597555e-01, -1.08929610e+00,\n",
       "        -2.13962947e-01, -7.10005585e-01,  7.99811235e-01,\n",
       "        -9.81761387e-01],\n",
       "       [ 1.32978161e+00, -9.14668296e-02, -1.75423310e-01,\n",
       "        -2.22472138e+00, -1.09829624e+00,  7.52745475e-01,\n",
       "        -1.06402021e+00, -1.05968806e+00, -1.13282195e+00,\n",
       "         1.01857744e+00],\n",
       "       [-9.22556312e-01, -8.18739670e-01, -4.41414004e-01,\n",
       "         8.76311426e-01,  6.04393966e-01, -1.70330996e+00,\n",
       "         9.43059434e-01,  8.98533779e-01, -1.06856186e-01,\n",
       "         1.01857744e+00],\n",
       "       [ 4.02348347e-01,  1.36307885e+00, -4.41414004e-01,\n",
       "         7.39702051e-01,  9.00166443e-01, -1.56296394e+00,\n",
       "         9.66672136e-01,  1.26919720e+00,  6.01614966e-02,\n",
       "         1.01857744e+00],\n",
       "       [-4.58839681e-01, -9.14668296e-02, -4.41414004e-01,\n",
       "         8.08006738e-01,  1.09201886e+00,  7.00115715e-01,\n",
       "         8.48608628e-01,  8.21603635e-01, -2.26154531e-01,\n",
       "        -9.81761387e-01],\n",
       "       [-1.32002771e+00,  2.09035169e+00, -4.41414004e-01,\n",
       "         8.96802832e-01,  2.84639937e-01, -3.70022725e-01,\n",
       "         2.05285641e+00,  1.01257746e-01,  3.63018276e-02,\n",
       "        -9.81761387e-01],\n",
       "       [ 8.66064978e-01,  2.72169591e-01, -4.41414004e-01,\n",
       "         3.23043457e-01, -8.18511465e-01, -6.85801282e-01,\n",
       "        -3.32026455e-01, -7.37980183e-01,  3.94196862e-01,\n",
       "        -9.81761387e-01],\n",
       "       [-1.38627294e+00, -1.90964893e+00, -3.74916331e-01,\n",
       "         9.92429394e-01,  6.36369369e-01,  6.65029209e-01,\n",
       "         1.13196105e+00,  5.34864009e-01, -1.78435193e-01,\n",
       "        -9.81761387e-01],\n",
       "       [-4.58839681e-01, -4.55103250e-01, -4.41414004e-01,\n",
       "         7.80684863e-01,  3.16615340e-01,  6.82572462e-01,\n",
       "         6.36094313e-01,  3.74010073e-01, -5.60189897e-01,\n",
       "         1.01857744e+00],\n",
       "       [ 1.19729114e+00,  2.09035169e+00,  1.07301951e+01,\n",
       "        -1.70560576e+00, -4.74775883e-01,  1.15624030e+00,\n",
       "        -9.69569400e-01, -5.77126247e-01, -1.06124295e+00,\n",
       "         1.01857744e+00],\n",
       "       [-1.18753724e+00, -8.18739670e-01, -4.41414004e-01,\n",
       "         8.62650488e-01, -1.63015705e-01, -9.31406825e-01,\n",
       "         8.48608628e-01, -2.83392971e-01,  1.77805766e+00,\n",
       "        -9.81761387e-01],\n",
       "       [-4.58839681e-01, -9.14668296e-02, -4.41414004e-01,\n",
       "         7.94345801e-01,  5.00473906e-01,  1.21188362e-01,\n",
       "         7.77770523e-01,  2.97079929e-01, -5.12470559e-01,\n",
       "        -9.81761387e-01],\n",
       "       [ 1.72725301e+00, -8.18739670e-01, -4.41414004e-01,\n",
       "        -4.41969042e-01, -9.62400778e-01, -1.21209888e+00,\n",
       "        -8.27893190e-01, -8.98834119e-01, -1.01352361e+00,\n",
       "         1.01857744e+00],\n",
       "       [ 1.06480068e+00, -4.55103250e-01, -4.41414004e-01,\n",
       "         2.41077832e-01, -6.66628301e-01, -3.34936219e-01,\n",
       "        -4.97315367e-01, -5.70132597e-01,  3.46477524e-01,\n",
       "         1.01857744e+00],\n",
       "       [ 4.02348347e-01, -4.55103250e-01, -4.41414004e-01,\n",
       "         5.41618457e-01, -2.02984958e-01,  1.03645109e-01,\n",
       "        -2.50613337e-02, -1.64500931e-01,  1.30086428e+00,\n",
       "         1.01857744e+00],\n",
       "       [-1.25378248e+00,  2.72169591e-01, -4.41414004e-01,\n",
       "         9.37785644e-01,  2.51492429e+00, -1.52787743e+00,\n",
       "         1.60421508e+00,  2.35321286e+00,  6.32793552e-01,\n",
       "        -9.81761387e-01],\n",
       "       [ 3.36103114e-01, -4.55103250e-01, -4.41414004e-01,\n",
       "         3.50365332e-01, -7.06597555e-01, -7.91060800e-01,\n",
       "        -3.79251858e-01, -6.68043689e-01,  3.94196862e-01,\n",
       "         1.01857744e+00],\n",
       "       [ 1.46227207e+00,  9.99442431e-01, -4.41414004e-01,\n",
       "         4.32330957e-01, -9.10710479e-02,  2.79077640e-01,\n",
       "        -4.86740353e-02, -3.86152421e-02,  1.34858362e+00,\n",
       "         1.01857744e+00],\n",
       "       [ 6.01084046e-01,  6.35806011e-01, -2.41920984e-01,\n",
       "        -5.37595604e-01, -9.14437674e-01, -4.05109232e-01,\n",
       "        -7.57055085e-01, -8.00923028e-01, -9.89663938e-01,\n",
       "         1.01857744e+00],\n",
       "       [ 2.69857881e-01, -9.14668296e-02, -3.74916331e-01,\n",
       "         3.57195801e-01,  1.44374829e+00,  1.57727837e+00,\n",
       "        -3.32026455e-01,  1.32514639e+00,  1.58718031e+00,\n",
       "        -9.81761387e-01],\n",
       "       [-1.65125387e+00, -8.18739670e-01, -4.41414004e-01,\n",
       "         1.02658174e+00,  1.00408650e+00,  3.49250653e-01,\n",
       "         1.65144048e+00,  7.37679842e-01,  1.79459842e-01,\n",
       "        -9.81761387e-01],\n",
       "       [ 7.11221826e-02,  6.35806011e-01,  2.90060404e-01,\n",
       "        -3.19020605e-01,  5.00473906e-01,  4.72053425e-01,\n",
       "        -7.33442383e-01,  3.60022774e-01,  3.94196862e-01,\n",
       "        -9.81761387e-01],\n",
       "       [-8.56311079e-01,  1.36307885e+00, -4.41414004e-01,\n",
       "         7.60193457e-01, -2.50948063e-01, -2.64763207e-01,\n",
       "         1.03751024e+00, -2.90386621e-01, -7.03347911e-01,\n",
       "        -9.81761387e-01],\n",
       "       [ 2.03612648e-01, -9.14668296e-02, -3.74916331e-01,\n",
       "         2.68399707e-01, -1.86997257e-01,  6.12399450e-01,\n",
       "        -4.50089963e-01, -3.64699509e-03,  1.03840792e+00,\n",
       "         1.01857744e+00],\n",
       "       [ 7.33574512e-01, -9.14668296e-02, -4.41414004e-01,\n",
       "         6.23584082e-01,  9.64117249e-01, -1.59805044e+00,\n",
       "         2.11065683e-01,  1.29017815e+00, -5.36330228e-01,\n",
       "         1.01857744e+00],\n",
       "       [-6.13682833e-02, -8.18739670e-01,  4.23055751e-01,\n",
       "        -8.92779979e-01, -8.42493017e-01,  8.05375234e-01,\n",
       "        -8.75118593e-01, -8.84846821e-01, -1.03738328e+00,\n",
       "         1.01857744e+00],\n",
       "       [ 1.32978161e+00,  2.45398811e+00,  8.26978122e+00,\n",
       "        -2.07445107e+00, -9.70394629e-01,  7.35202221e-01,\n",
       "        -1.04040750e+00, -9.68770614e-01, -1.10896228e+00,\n",
       "         1.01857744e+00],\n",
       "       [-1.27613516e-01,  9.99442431e-01, -2.41920984e-01,\n",
       "        -2.53104486e-02, -2.66935764e-01,  2.08904628e-01,\n",
       "        -5.91766173e-01, -1.71494581e-01,  4.18056531e-01,\n",
       "         1.01857744e+00],\n",
       "       [-1.84998957e+00, -4.55103250e-01, -4.41414004e-01,\n",
       "         1.08122549e+00, -3.06905018e-01, -8.26147307e-01,\n",
       "         2.14730722e+00, -4.16272310e-01, -3.21593207e-01,\n",
       "        -9.81761387e-01],\n",
       "       [ 1.66100777e+00,  9.99442431e-01, -4.41414004e-01,\n",
       "         1.72773145e-01, -2.26966510e-01, -4.57738991e-01,\n",
       "        -4.50089963e-01, -3.32348517e-01,  7.99811235e-01,\n",
       "        -9.81761387e-01],\n",
       "       [ 2.69857881e-01,  2.45398811e+00, -1.75423310e-01,\n",
       "        -6.33222167e-01, -3.30886570e-01,  8.93091499e-01,\n",
       "        -6.86216980e-01, -8.05771386e-02,  3.22617855e-01,\n",
       "         1.01857744e+00],\n",
       "       [-5.91330147e-01, -4.55103250e-01, -4.41414004e-01,\n",
       "         8.21667676e-01,  2.11523175e+00, -1.58050719e+00,\n",
       "         7.77770523e-01,  2.02451133e+00,  1.55600173e-01,\n",
       "        -9.81761387e-01],\n",
       "       [-4.58839681e-01, -4.55103250e-01, -4.41414004e-01,\n",
       "         5.96262207e-01, -5.06751286e-01, -1.01912309e+00,\n",
       "         6.93894730e-02, -5.84119896e-01,  1.13384660e+00,\n",
       "        -9.81761387e-01],\n",
       "       [ 9.32310211e-01,  1.72671527e+00,  2.40697100e-02,\n",
       "        -9.81576073e-01, -9.62400778e-01,  1.38430259e+00,\n",
       "        -8.04280488e-01, -9.47789665e-01, -1.01352361e+00,\n",
       "         1.01857744e+00],\n",
       "       [-5.25084914e-01,  9.99442431e-01, -3.74916331e-01,\n",
       "         1.52281739e-01, -8.26505316e-01, -1.38753141e+00,\n",
       "        -7.09829682e-01, -8.00923028e-01, -9.65804269e-01,\n",
       "        -9.81761387e-01],\n",
       "       [ 7.33574512e-01, -9.14668296e-02, -4.41414004e-01,\n",
       "         6.23584082e-01, -2.02984958e-01, -7.17874223e-02,\n",
       "         2.11065683e-01, -2.13456477e-01,  1.46788197e+00,\n",
       "         1.01857744e+00],\n",
       "       [ 1.37367416e-01, -9.14668296e-02, -3.08418657e-01,\n",
       "        -6.94696386e-01, -8.66474569e-01, -1.22964213e+00,\n",
       "        -8.27893190e-01, -8.21903976e-01, -1.01352361e+00,\n",
       "        -9.81761387e-01],\n",
       "       [ 4.68593580e-01, -8.18739670e-01,  2.40697100e-02,\n",
       "        -7.42509667e-01, -6.90609853e-01,  1.40184584e+00,\n",
       "        -8.51505892e-01, -7.51967482e-01, -1.01352361e+00,\n",
       "         1.01857744e+00],\n",
       "       [ 1.32978161e+00,  2.09035169e+00, -4.41414004e-01,\n",
       "         5.07466114e-01,  2.58686895e+00, -8.43690560e-01,\n",
       "        -7.22867370e-02,  2.98963495e+00, -3.45452876e-01,\n",
       "         1.01857744e+00],\n",
       "       [ 4.02348347e-01, -9.14668296e-02, -4.41414004e-01,\n",
       "         5.89431738e-01,  7.40289429e-01,  3.31707400e-01,\n",
       "         1.16614876e-01,  5.13883061e-01,  1.73033833e+00,\n",
       "        -9.81761387e-01],\n",
       "       [-1.38627294e+00, -2.63692177e+00, -3.74916331e-01,\n",
       "         4.39161426e-01,  8.20227936e-01,  1.27904307e+00,\n",
       "        -4.73702665e-01,  8.63565532e-01,  1.22928528e+00,\n",
       "        -9.81761387e-01],\n",
       "       [-1.93858749e-01,  2.72169591e-01,  9.05673835e-02,\n",
       "        -2.23394042e-01, -6.10671346e-01,  1.08606728e+00,\n",
       "        -7.33442383e-01, -6.89024637e-01, -9.41944600e-01,\n",
       "        -9.81761387e-01],\n",
       "       [-1.65125387e+00,  2.72169591e-01, -4.41414004e-01,\n",
       "         1.00609033e+00,  3.72998960e+00, -1.15946912e+00,\n",
       "         1.98201831e+00,  3.31833647e+00,  9.90688587e-01,\n",
       "        -9.81761387e-01],\n",
       "       [ 9.32310211e-01,  3.90853379e+00,  5.07789289e+00,\n",
       "        -2.05395967e+00, -1.08230854e+00,  7.17658968e-01,\n",
       "        -1.01679480e+00, -1.04570076e+00, -1.10896228e+00,\n",
       "         1.01857744e+00]])"
      ]
     },
     "execution_count": 56,
     "metadata": {},
     "output_type": "execute_result"
    }
   ],
   "source": [
    "x_test"
   ]
  },
  {
   "cell_type": "markdown",
   "id": "57094b08",
   "metadata": {},
   "source": [
    "# Linear Regression Model Training"
   ]
  },
  {
   "cell_type": "code",
   "execution_count": 57,
   "id": "5b2b6dda",
   "metadata": {},
   "outputs": [],
   "source": [
    "from sklearn.linear_model import LinearRegression"
   ]
  },
  {
   "cell_type": "code",
   "execution_count": 58,
   "id": "fdce9ef3",
   "metadata": {},
   "outputs": [
    {
     "data": {
      "text/plain": [
       "LinearRegression()"
      ]
     },
     "execution_count": 58,
     "metadata": {},
     "output_type": "execute_result"
    }
   ],
   "source": [
    "regression=LinearRegression()\n",
    "regression\n",
    "regression.fit(x_train,y_train)"
   ]
  },
  {
   "cell_type": "code",
   "execution_count": 59,
   "id": "af299457",
   "metadata": {},
   "outputs": [
    {
     "name": "stdout",
     "output_type": "stream",
     "text": [
      "[[-1.27500995 -0.53842199 -0.21205266  0.70886534 -1.02729123 -0.32455869\n",
      "   0.2501139   1.35400654  0.21687466 -0.23115864]]\n"
     ]
    }
   ],
   "source": [
    "## print the coefficients\n",
    "print(regression.coef_)"
   ]
  },
  {
   "cell_type": "code",
   "execution_count": 60,
   "id": "a9c33ebc",
   "metadata": {},
   "outputs": [
    {
     "name": "stdout",
     "output_type": "stream",
     "text": [
      "[32.17791411]\n"
     ]
    }
   ],
   "source": [
    "## print the intercept\n",
    "print(regression.intercept_)\n"
   ]
  },
  {
   "cell_type": "code",
   "execution_count": 61,
   "id": "19d11acd",
   "metadata": {},
   "outputs": [],
   "source": [
    "## prediction for the test data\n",
    "reg_pred = regression.predict(x_test)"
   ]
  },
  {
   "cell_type": "code",
   "execution_count": 62,
   "id": "79f05646",
   "metadata": {},
   "outputs": [
    {
     "data": {
      "text/plain": [
       "array([[31.35728286],\n",
       "       [33.48448971],\n",
       "       [33.68885621],\n",
       "       [32.00434093],\n",
       "       [32.90791395],\n",
       "       [35.12184072],\n",
       "       [32.88392257],\n",
       "       [34.41877632],\n",
       "       [31.94627835],\n",
       "       [32.98721461],\n",
       "       [33.30675698],\n",
       "       [27.36975802],\n",
       "       [35.07784211],\n",
       "       [29.24028529],\n",
       "       [31.85823402],\n",
       "       [32.41802576],\n",
       "       [34.37535576],\n",
       "       [28.09756027],\n",
       "       [36.26505018],\n",
       "       [34.01992072],\n",
       "       [32.55507349],\n",
       "       [34.37404142],\n",
       "       [32.95376928],\n",
       "       [33.26908507],\n",
       "       [36.11652279],\n",
       "       [29.43281151],\n",
       "       [31.64047533],\n",
       "       [32.38849979],\n",
       "       [27.56606986],\n",
       "       [32.22728534],\n",
       "       [25.99441341],\n",
       "       [27.23155419],\n",
       "       [34.06867619],\n",
       "       [31.64327002],\n",
       "       [32.76692249],\n",
       "       [31.05185077],\n",
       "       [29.01675218],\n",
       "       [33.06175783],\n",
       "       [27.69372403],\n",
       "       [35.63560078],\n",
       "       [32.8693709 ],\n",
       "       [33.63210892],\n",
       "       [34.17783984],\n",
       "       [31.5433198 ],\n",
       "       [36.08261913],\n",
       "       [33.41675348],\n",
       "       [24.66437356],\n",
       "       [35.74882134],\n",
       "       [33.62798919],\n",
       "       [29.69949092],\n",
       "       [31.06668332],\n",
       "       [32.38004487],\n",
       "       [36.25233174],\n",
       "       [32.16965552],\n",
       "       [30.17098904],\n",
       "       [30.08639562],\n",
       "       [32.50310102],\n",
       "       [36.07831078],\n",
       "       [31.40637145],\n",
       "       [33.45272801],\n",
       "       [32.10289562],\n",
       "       [32.80364988],\n",
       "       [30.70110717],\n",
       "       [24.64737332],\n",
       "       [31.51727723],\n",
       "       [36.35580039],\n",
       "       [29.95761627],\n",
       "       [29.70472774],\n",
       "       [35.38938777],\n",
       "       [34.07489424],\n",
       "       [27.95824128],\n",
       "       [32.55161796],\n",
       "       [31.90597354],\n",
       "       [31.60138869],\n",
       "       [30.05790994],\n",
       "       [31.14615789],\n",
       "       [32.6846203 ],\n",
       "       [36.0426106 ],\n",
       "       [31.28209795],\n",
       "       [36.91863039],\n",
       "       [25.08477191]])"
      ]
     },
     "execution_count": 62,
     "metadata": {},
     "output_type": "execute_result"
    }
   ],
   "source": [
    "reg_pred\n"
   ]
  },
  {
   "cell_type": "code",
   "execution_count": 63,
   "id": "bd5b8e3a",
   "metadata": {},
   "outputs": [
    {
     "data": {
      "text/plain": [
       "Text(0, 0.5, 'Test Predicted Data')"
      ]
     },
     "execution_count": 63,
     "metadata": {},
     "output_type": "execute_result"
    },
    {
     "data": {
      "image/png": "[encoded data removed]",
      "text/plain": [
       "<Figure size 432x288 with 1 Axes>"
      ]
     },
     "metadata": {
      "needs_background": "light"
     },
     "output_type": "display_data"
    }
   ],
   "source": [
    "## Assumptions of Linear Regression\n",
    "\n",
    "plt.scatter(y_test, reg_pred)\n",
    "plt.xlabel(\"Test Truth Data\")\n",
    "plt.ylabel(\"Test Predicted Data\")"
   ]
  },
  {
   "cell_type": "code",
   "execution_count": 64,
   "id": "8daa003c",
   "metadata": {},
   "outputs": [],
   "source": [
    "## residuals \n",
    "residuals = y_test-reg_pred"
   ]
  },
  {
   "cell_type": "code",
   "execution_count": 65,
   "id": "8681e88e",
   "metadata": {},
   "outputs": [
    {
     "data": {
      "text/plain": [
       "<seaborn.axisgrid.FacetGrid at 0x22ab8917790>"
      ]
     },
     "execution_count": 65,
     "metadata": {},
     "output_type": "execute_result"
    },
    {
     "data": {
      "image/png": "[encoded data removed]",
      "text/plain": [
       "<Figure size 458.875x360 with 1 Axes>"
      ]
     },
     "metadata": {
      "needs_background": "light"
     },
     "output_type": "display_data"
    }
   ],
   "source": [
    "sns.displot(residuals, kind = \"kde\") # Distribution of residuals"
   ]
  },
  {
   "cell_type": "markdown",
   "id": "e51e8654",
   "metadata": {},
   "source": [
    "# Performance Metrics"
   ]
  },
  {
   "cell_type": "code",
   "execution_count": 66,
   "id": "bc3ad450",
   "metadata": {},
   "outputs": [
    {
     "name": "stdout",
     "output_type": "stream",
     "text": [
      "7.5047669730624325\n",
      "2.2354993752323624\n",
      "2.739482975501478\n"
     ]
    }
   ],
   "source": [
    "from sklearn.metrics import mean_squared_error\n",
    "from sklearn.metrics import mean_absolute_error\n",
    "print(mean_squared_error(y_test,reg_pred))\n",
    "print(mean_absolute_error(y_test,reg_pred))\n",
    "print(np.sqrt(mean_squared_error(y_test,reg_pred)))"
   ]
  },
  {
   "cell_type": "code",
   "execution_count": 67,
   "id": "6ddd3cae",
   "metadata": {},
   "outputs": [],
   "source": [
    "## R square and adjusted R square"
   ]
  },
  {
   "cell_type": "code",
   "execution_count": 68,
   "id": "9e8e59a5",
   "metadata": {},
   "outputs": [
    {
     "name": "stdout",
     "output_type": "stream",
     "text": [
      "0.5037314185907533\n"
     ]
    }
   ],
   "source": [
    "# R square \n",
    "\n",
    "from sklearn.metrics import r2_score\n",
    "score = r2_score(y_test, reg_pred)\n",
    "print(score)"
   ]
  },
  {
   "cell_type": "code",
   "execution_count": 69,
   "id": "fcebeb55",
   "metadata": {},
   "outputs": [
    {
     "data": {
      "text/plain": [
       "0.43283590696086094"
      ]
     },
     "execution_count": 69,
     "metadata": {},
     "output_type": "execute_result"
    }
   ],
   "source": [
    "## Adjusted R Square\n",
    "#display adjusted R square\n",
    "1 - (1-score)*(len(y_test)-1)/(len(y_test)-x_test.shape[1]-1)"
   ]
  },
  {
   "cell_type": "markdown",
   "id": "7b0a7047",
   "metadata": {},
   "source": [
    "# Ridege Regression Algorithm\n"
   ]
  },
  {
   "cell_type": "code",
   "execution_count": 70,
   "id": "d1c4926c",
   "metadata": {},
   "outputs": [
    {
     "data": {
      "text/plain": [
       "Ridge()"
      ]
     },
     "execution_count": 70,
     "metadata": {},
     "output_type": "execute_result"
    }
   ],
   "source": [
    "from sklearn.linear_model import Ridge\n",
    "ridge = Ridge()\n",
    "ridge\n",
    "ridge.fit(x_train, y_train)"
   ]
  },
  {
   "cell_type": "code",
   "execution_count": 71,
   "id": "8c314932",
   "metadata": {},
   "outputs": [
    {
     "name": "stdout",
     "output_type": "stream",
     "text": [
      "[[-1.25483718 -0.53296814 -0.20702885  0.72895886 -0.60290935 -0.32591751\n",
      "   0.24045074  0.93900788  0.21118476 -0.1916003 ]]\n"
     ]
    }
   ],
   "source": [
    "## print the coefficients \n",
    "print(ridge.coef_)"
   ]
  },
  {
   "cell_type": "code",
   "execution_count": 72,
   "id": "87499a36",
   "metadata": {},
   "outputs": [
    {
     "name": "stdout",
     "output_type": "stream",
     "text": [
      "[32.17791411]\n"
     ]
    }
   ],
   "source": [
    "## print the intercept\n",
    "print(ridge.intercept_)\n"
   ]
  },
  {
   "cell_type": "code",
   "execution_count": 73,
   "id": "48e3312d",
   "metadata": {},
   "outputs": [
    {
     "data": {
      "text/plain": [
       "array([[31.35162743],\n",
       "       [33.40986612],\n",
       "       [33.72771064],\n",
       "       [32.07338971],\n",
       "       [32.90931259],\n",
       "       [35.0319983 ],\n",
       "       [32.79015818],\n",
       "       [34.17178646],\n",
       "       [31.97942736],\n",
       "       [33.01801414],\n",
       "       [33.36867288],\n",
       "       [27.41069432],\n",
       "       [35.06294721],\n",
       "       [29.21943029],\n",
       "       [31.86814167],\n",
       "       [32.4415311 ],\n",
       "       [34.32301905],\n",
       "       [28.10883976],\n",
       "       [36.28106232],\n",
       "       [34.1156651 ],\n",
       "       [32.5477257 ],\n",
       "       [34.12721932],\n",
       "       [32.95790766],\n",
       "       [33.29642758],\n",
       "       [36.10629748],\n",
       "       [29.45172695],\n",
       "       [31.55350828],\n",
       "       [32.44406184],\n",
       "       [27.6048532 ],\n",
       "       [32.16940933],\n",
       "       [26.0626233 ],\n",
       "       [27.15902083],\n",
       "       [34.09770279],\n",
       "       [31.64258349],\n",
       "       [32.74172122],\n",
       "       [31.00145744],\n",
       "       [29.02397313],\n",
       "       [33.02208479],\n",
       "       [27.70413671],\n",
       "       [35.54562191],\n",
       "       [32.78559985],\n",
       "       [33.71213911],\n",
       "       [34.19881056],\n",
       "       [31.48850848],\n",
       "       [36.06072934],\n",
       "       [33.43404309],\n",
       "       [24.81171141],\n",
       "       [35.7280546 ],\n",
       "       [33.67748084],\n",
       "       [29.73906751],\n",
       "       [31.08558962],\n",
       "       [32.40946204],\n",
       "       [36.27999474],\n",
       "       [32.1989361 ],\n",
       "       [30.22249483],\n",
       "       [30.08807274],\n",
       "       [32.52930384],\n",
       "       [36.1226345 ],\n",
       "       [31.43466997],\n",
       "       [33.42545678],\n",
       "       [32.07007099],\n",
       "       [32.74547017],\n",
       "       [30.74281953],\n",
       "       [24.73332347],\n",
       "       [31.51966611],\n",
       "       [36.32138028],\n",
       "       [30.00101555],\n",
       "       [29.64684244],\n",
       "       [35.40167579],\n",
       "       [34.05569841],\n",
       "       [28.00372035],\n",
       "       [32.50468393],\n",
       "       [31.96302548],\n",
       "       [31.53812647],\n",
       "       [30.11946542],\n",
       "       [31.09359251],\n",
       "       [32.75250885],\n",
       "       [35.95392448],\n",
       "       [31.27455865],\n",
       "       [37.0485867 ],\n",
       "       [25.1392405 ]])"
      ]
     },
     "execution_count": 73,
     "metadata": {},
     "output_type": "execute_result"
    }
   ],
   "source": [
    "## prediction for the test data\n",
    "ridge_pred = ridge.predict(x_test)\n",
    "ridge_pred"
   ]
  },
  {
   "cell_type": "code",
   "execution_count": 74,
   "id": "f9b47a61",
   "metadata": {},
   "outputs": [
    {
     "data": {
      "text/plain": [
       "Text(0, 0.5, 'Test Predicted Data')"
      ]
     },
     "execution_count": 74,
     "metadata": {},
     "output_type": "execute_result"
    },
    {
     "data": {
      "image/png": "[encoded data removed]",
      "text/plain": [
       "<Figure size 432x288 with 1 Axes>"
      ]
     },
     "metadata": {
      "needs_background": "light"
     },
     "output_type": "display_data"
    }
   ],
   "source": [
    "## Assumptions of Ridge Regression\n",
    "\n",
    "plt.scatter(y_test, ridge_pred)\n",
    "plt.xlabel(\"Test Truth Data\")\n",
    "plt.ylabel(\"Test Predicted Data\")\n"
   ]
  },
  {
   "cell_type": "code",
   "execution_count": 75,
   "id": "7ac21432",
   "metadata": {},
   "outputs": [],
   "source": [
    "## residuals \n",
    "residuals = y_test-ridge_pred\n"
   ]
  },
  {
   "cell_type": "code",
   "execution_count": 76,
   "id": "95e0d725",
   "metadata": {},
   "outputs": [
    {
     "data": {
      "text/html": [
       "<div>\n",
       "<style scoped>\n",
       "    .dataframe tbody tr th:only-of-type {\n",
       "        vertical-align: middle;\n",
       "    }\n",
       "\n",
       "    .dataframe tbody tr th {\n",
       "        vertical-align: top;\n",
       "    }\n",
       "\n",
       "    .dataframe thead th {\n",
       "        text-align: right;\n",
       "    }\n",
       "</style>\n",
       "<table border=\"1\" class=\"dataframe\">\n",
       "  <thead>\n",
       "    <tr style=\"text-align: right;\">\n",
       "      <th></th>\n",
       "      <th>Temperature</th>\n",
       "    </tr>\n",
       "  </thead>\n",
       "  <tbody>\n",
       "    <tr>\n",
       "      <th>162</th>\n",
       "      <td>2.648373</td>\n",
       "    </tr>\n",
       "    <tr>\n",
       "      <th>60</th>\n",
       "      <td>1.590134</td>\n",
       "    </tr>\n",
       "    <tr>\n",
       "      <th>61</th>\n",
       "      <td>2.272289</td>\n",
       "    </tr>\n",
       "    <tr>\n",
       "      <th>63</th>\n",
       "      <td>2.926610</td>\n",
       "    </tr>\n",
       "    <tr>\n",
       "      <th>69</th>\n",
       "      <td>2.090687</td>\n",
       "    </tr>\n",
       "    <tr>\n",
       "      <th>...</th>\n",
       "      <td>...</td>\n",
       "    </tr>\n",
       "    <tr>\n",
       "      <th>169</th>\n",
       "      <td>0.247491</td>\n",
       "    </tr>\n",
       "    <tr>\n",
       "      <th>232</th>\n",
       "      <td>-6.953924</td>\n",
       "    </tr>\n",
       "    <tr>\n",
       "      <th>144</th>\n",
       "      <td>1.725441</td>\n",
       "    </tr>\n",
       "    <tr>\n",
       "      <th>208</th>\n",
       "      <td>-4.048587</td>\n",
       "    </tr>\n",
       "    <tr>\n",
       "      <th>105</th>\n",
       "      <td>-3.139240</td>\n",
       "    </tr>\n",
       "  </tbody>\n",
       "</table>\n",
       "<p>81 rows × 1 columns</p>\n",
       "</div>"
      ],
      "text/plain": [
       "     Temperature\n",
       "162     2.648373\n",
       "60      1.590134\n",
       "61      2.272289\n",
       "63      2.926610\n",
       "69      2.090687\n",
       "..           ...\n",
       "169     0.247491\n",
       "232    -6.953924\n",
       "144     1.725441\n",
       "208    -4.048587\n",
       "105    -3.139240\n",
       "\n",
       "[81 rows x 1 columns]"
      ]
     },
     "execution_count": 76,
     "metadata": {},
     "output_type": "execute_result"
    }
   ],
   "source": [
    "residuals"
   ]
  },
  {
   "cell_type": "code",
   "execution_count": 77,
   "id": "cf981ed4",
   "metadata": {},
   "outputs": [
    {
     "data": {
      "text/plain": [
       "<seaborn.axisgrid.FacetGrid at 0x22ab8f186d0>"
      ]
     },
     "execution_count": 77,
     "metadata": {},
     "output_type": "execute_result"
    },
    {
     "data": {
      "image/png": "[encoded data removed]",
      "text/plain": [
       "<Figure size 458.875x360 with 1 Axes>"
      ]
     },
     "metadata": {
      "needs_background": "light"
     },
     "output_type": "display_data"
    }
   ],
   "source": [
    "sns.displot(residuals, kind = \"kde\") # Distribution of residuals"
   ]
  },
  {
   "cell_type": "code",
   "execution_count": 78,
   "id": "7a8c29dd",
   "metadata": {},
   "outputs": [
    {
     "data": {
      "text/plain": [
       "<matplotlib.collections.PathCollection at 0x22ab8fbfa90>"
      ]
     },
     "execution_count": 78,
     "metadata": {},
     "output_type": "execute_result"
    },
    {
     "data": {
      "image/png": "[encoded data removed]",
      "text/plain": [
       "<Figure size 432x288 with 1 Axes>"
      ]
     },
     "metadata": {
      "needs_background": "light"
     },
     "output_type": "display_data"
    }
   ],
   "source": [
    "## Scatter plot with predictions and residual\n",
    "## uniform distribution\n",
    "plt.scatter(ridge_pred, residuals)"
   ]
  },
  {
   "cell_type": "code",
   "execution_count": 79,
   "id": "1c218e4e",
   "metadata": {},
   "outputs": [
    {
     "name": "stdout",
     "output_type": "stream",
     "text": [
      "7.444528719288365\n",
      "2.2355295943587614\n",
      "2.7284663676300585\n"
     ]
    }
   ],
   "source": [
    "## Performance Metrics\n",
    "\n",
    "from sklearn.metrics import mean_squared_error\n",
    "from sklearn.metrics import mean_absolute_error\n",
    "print(mean_squared_error(y_test, ridge_pred))\n",
    "print(mean_absolute_error(y_test, ridge_pred))\n",
    "print(np.sqrt(mean_squared_error(y_test, ridge_pred)))"
   ]
  },
  {
   "cell_type": "code",
   "execution_count": 80,
   "id": "16c6ec4d",
   "metadata": {},
   "outputs": [
    {
     "name": "stdout",
     "output_type": "stream",
     "text": [
      "0.5077148004671435\n"
     ]
    }
   ],
   "source": [
    "# R square\n",
    "from sklearn.metrics import r2_score\n",
    "score = r2_score(y_test, ridge_pred)\n",
    "print(score)"
   ]
  },
  {
   "cell_type": "code",
   "execution_count": 81,
   "id": "46c8c0da",
   "metadata": {},
   "outputs": [
    {
     "data": {
      "text/plain": [
       "0.43738834339102106"
      ]
     },
     "execution_count": 81,
     "metadata": {},
     "output_type": "execute_result"
    }
   ],
   "source": [
    "## Adjusted R Square\n",
    "#display adjusted R square\n",
    "1 - (1-score)*(len(y_test)-1)/(len(y_test)-x_test.shape[1]-1)"
   ]
  },
  {
   "cell_type": "markdown",
   "id": "a960bad2",
   "metadata": {},
   "source": [
    "# Lasso Regression Model Training\n"
   ]
  },
  {
   "cell_type": "code",
   "execution_count": 82,
   "id": "b108e4ea",
   "metadata": {},
   "outputs": [
    {
     "data": {
      "text/plain": [
       "Lasso()"
      ]
     },
     "execution_count": 82,
     "metadata": {},
     "output_type": "execute_result"
    }
   ],
   "source": [
    "from sklearn.linear_model import Lasso\n",
    "lasso=Lasso()\n",
    "lasso\n",
    "lasso.fit(x_train,y_train)"
   ]
  },
  {
   "cell_type": "code",
   "execution_count": 83,
   "id": "33b6f7be",
   "metadata": {},
   "outputs": [
    {
     "name": "stdout",
     "output_type": "stream",
     "text": [
      "[-0.71955751 -0.         -0.          0.89582004  0.         -0.\n",
      "  0.          0.          0.         -0.        ]\n"
     ]
    }
   ],
   "source": [
    "## print the coefficients\n",
    "print(lasso.coef_)"
   ]
  },
  {
   "cell_type": "code",
   "execution_count": 84,
   "id": "0d712f6d",
   "metadata": {},
   "outputs": [
    {
     "name": "stdout",
     "output_type": "stream",
     "text": [
      "[32.17791411]\n"
     ]
    }
   ],
   "source": [
    "## print the intercept\n",
    "print(lasso.intercept_)"
   ]
  },
  {
   "cell_type": "code",
   "execution_count": 85,
   "id": "ff9297b4",
   "metadata": {},
   "outputs": [
    {
     "data": {
      "text/plain": [
       "array([32.29700076, 32.6744027 , 33.06609539, 32.07346965, 32.92497671,\n",
       "       33.33947653, 33.32111992, 32.77042154, 32.11916885, 32.70983221,\n",
       "       33.15976154, 30.29861247, 34.17172792, 30.95174825, 33.0931383 ,\n",
       "       32.31497272, 32.93691477, 29.42489766, 34.46059856, 33.50695377,\n",
       "       32.46152593, 33.02899752, 33.30888217, 32.80645043, 34.5498142 ,\n",
       "       30.18680443, 32.38908351, 32.89121556, 29.47641605, 31.8492542 ,\n",
       "       29.50217524, 28.6091198 , 33.21226395, 32.70054654, 32.64380834,\n",
       "       31.80937418, 30.23515603, 32.53110125, 29.22810977, 33.62676377,\n",
       "       32.55104126, 33.23190428, 33.93112391, 31.84411936, 34.06445535,\n",
       "       33.20742879, 29.78847846, 33.80519505, 33.21966653, 30.53913152,\n",
       "       31.62769114, 32.373594  , 33.92016988, 32.24993288, 31.51301599,\n",
       "       31.26381066, 32.303719  , 34.28571873, 31.84095256, 33.47507571,\n",
       "       32.27184094, 32.20868418, 31.42230192, 29.36272493, 32.24706577,\n",
       "       34.47767146, 31.13749714, 31.41648274, 33.33947653, 33.04221928,\n",
       "       30.62774778, 32.69215994, 32.20868418, 31.45674741, 31.17557904,\n",
       "       31.67565808, 32.4164261 , 33.56882682, 32.11728577, 34.26736212,\n",
       "       29.66708507])"
      ]
     },
     "execution_count": 85,
     "metadata": {},
     "output_type": "execute_result"
    }
   ],
   "source": [
    "## prediction for the test data\n",
    "lasso_pred = lasso.predict(x_test)\n",
    "lasso_pred"
   ]
  },
  {
   "cell_type": "code",
   "execution_count": 86,
   "id": "3363c336",
   "metadata": {},
   "outputs": [
    {
     "data": {
      "text/plain": [
       "Text(0, 0.5, 'Test Predicted Data')"
      ]
     },
     "execution_count": 86,
     "metadata": {},
     "output_type": "execute_result"
    },
    {
     "data": {
      "image/png": "[encoded data removed]",
      "text/plain": [
       "<Figure size 432x288 with 1 Axes>"
      ]
     },
     "metadata": {
      "needs_background": "light"
     },
     "output_type": "display_data"
    }
   ],
   "source": [
    "## Assumptions of Lasso Regression\n",
    "\n",
    "plt.scatter(y_test, lasso_pred)\n",
    "plt.xlabel(\"Test Truth Data\")\n",
    "plt.ylabel(\"Test Predicted Data\")\n"
   ]
  },
  {
   "cell_type": "code",
   "execution_count": 87,
   "id": "90555abf",
   "metadata": {},
   "outputs": [
    {
     "name": "stdout",
     "output_type": "stream",
     "text": [
      "9.10609532182792\n",
      "2.4978660766652734\n",
      "3.0176307464346794\n"
     ]
    }
   ],
   "source": [
    "## Performance Metrics\n",
    "from sklearn.metrics import mean_squared_error\n",
    "from sklearn.metrics import mean_absolute_error\n",
    "print(mean_squared_error(y_test, lasso_pred))\n",
    "print(mean_absolute_error(y_test, lasso_pred))\n",
    "print(np.sqrt(mean_squared_error(y_test, lasso_pred)))"
   ]
  },
  {
   "cell_type": "code",
   "execution_count": 88,
   "id": "1b5bb108",
   "metadata": {},
   "outputs": [],
   "source": [
    "## Rsquare and adjusted R square\n"
   ]
  },
  {
   "cell_type": "code",
   "execution_count": 89,
   "id": "0990b30b",
   "metadata": {},
   "outputs": [
    {
     "name": "stdout",
     "output_type": "stream",
     "text": [
      "9.10609532182792\n",
      "2.4978660766652734\n",
      "3.0176307464346794\n"
     ]
    }
   ],
   "source": [
    "## Performance Metrics\n",
    "from sklearn.metrics import mean_squared_error\n",
    "from sklearn.metrics import mean_absolute_error\n",
    "print(mean_squared_error(y_test, lasso_pred))\n",
    "print(mean_absolute_error(y_test, lasso_pred))\n",
    "print(np.sqrt(mean_squared_error(y_test, lasso_pred)))"
   ]
  },
  {
   "cell_type": "code",
   "execution_count": 90,
   "id": "e6196b9b",
   "metadata": {},
   "outputs": [
    {
     "data": {
      "text/plain": [
       "0.43738834339102106"
      ]
     },
     "execution_count": 90,
     "metadata": {},
     "output_type": "execute_result"
    }
   ],
   "source": [
    "## Adjusted R Square\n",
    "#display adjusted R square\n",
    "## Adjusted R Square\n",
    "#display adjusted R square\n",
    "1 - (1-score)*(len(y_test)-1)/(len(y_test)-x_test.shape[1]-1)"
   ]
  },
  {
   "cell_type": "markdown",
   "id": "7abd2e08",
   "metadata": {},
   "source": [
    "# Elastic Net Regression Model Training"
   ]
  },
  {
   "cell_type": "code",
   "execution_count": 91,
   "id": "df1ca55f",
   "metadata": {},
   "outputs": [
    {
     "data": {
      "text/plain": [
       "ElasticNet()"
      ]
     },
     "execution_count": 91,
     "metadata": {},
     "output_type": "execute_result"
    }
   ],
   "source": [
    "# Elastic Net Regression Model Training\n",
    "from sklearn.linear_model import ElasticNet\n",
    "elastic = ElasticNet()\n",
    "elastic\n",
    "elastic.fit(x_train, y_train)\n"
   ]
  },
  {
   "cell_type": "code",
   "execution_count": 92,
   "id": "e46964ce",
   "metadata": {},
   "outputs": [
    {
     "name": "stdout",
     "output_type": "stream",
     "text": [
      "[-0.69396083 -0.10315403 -0.01507374  0.6926462   0.10752205 -0.\n",
      "  0.28392506  0.07544656  0.05920494 -0.        ]\n"
     ]
    }
   ],
   "source": [
    "## print the coefficients\n",
    "print(elastic.coef_)\n"
   ]
  },
  {
   "cell_type": "code",
   "execution_count": 93,
   "id": "726b13ad",
   "metadata": {},
   "outputs": [
    {
     "name": "stdout",
     "output_type": "stream",
     "text": [
      "[32.17791411]\n"
     ]
    }
   ],
   "source": [
    "## print the intercept\n",
    "print(elastic.intercept_)"
   ]
  },
  {
   "cell_type": "code",
   "execution_count": 94,
   "id": "30e73a1d",
   "metadata": {},
   "outputs": [
    {
     "data": {
      "text/plain": [
       "array([31.93076461, 32.89925279, 32.68965549, 31.74550697, 32.98836724,\n",
       "       33.91299333, 33.41776043, 32.72078781, 31.98790062, 32.72490467,\n",
       "       33.30044153, 29.87165926, 34.12217082, 30.65936304, 32.72255437,\n",
       "       32.28333638, 32.84852051, 29.39040946, 35.0786389 , 33.86050655,\n",
       "       32.42586731, 33.31820617, 33.43805315, 32.91463826, 35.09348452,\n",
       "       29.99111145, 32.16696212, 32.5466324 , 29.35144729, 31.97557447,\n",
       "       29.14216505, 28.60375228, 33.27376701, 32.28678221, 32.70561446,\n",
       "       31.30843328, 30.01197805, 32.32347658, 29.15902087, 33.91042464,\n",
       "       32.74766721, 33.47903767, 34.12940549, 31.56461381, 34.44958031,\n",
       "       33.30036678, 29.35558024, 33.99794233, 33.3293338 , 30.2978916 ,\n",
       "       31.4241864 , 32.36311525, 34.61701506, 32.03023331, 31.41948172,\n",
       "       30.89419347, 32.508051  , 34.7691147 , 31.73370163, 33.3687946 ,\n",
       "       32.1509131 , 32.34603101, 31.21296836, 28.90195873, 31.96458545,\n",
       "       34.79046967, 30.91855019, 31.0841594 , 33.82121587, 32.95120309,\n",
       "       30.20921418, 32.14232146, 32.22575701, 31.16525171, 30.98976689,\n",
       "       31.86034438, 32.57697932, 33.81340658, 31.74661525, 35.27207415,\n",
       "       29.07891997])"
      ]
     },
     "execution_count": 94,
     "metadata": {},
     "output_type": "execute_result"
    }
   ],
   "source": [
    "## prediction for the test data\n",
    "elastic_pred = elastic.predict(x_test)\n",
    "elastic_pred"
   ]
  },
  {
   "cell_type": "code",
   "execution_count": 95,
   "id": "15c7f688",
   "metadata": {},
   "outputs": [
    {
     "data": {
      "text/plain": [
       "array([31.93076461, 32.89925279, 32.68965549, 31.74550697, 32.98836724,\n",
       "       33.91299333, 33.41776043, 32.72078781, 31.98790062, 32.72490467,\n",
       "       33.30044153, 29.87165926, 34.12217082, 30.65936304, 32.72255437,\n",
       "       32.28333638, 32.84852051, 29.39040946, 35.0786389 , 33.86050655,\n",
       "       32.42586731, 33.31820617, 33.43805315, 32.91463826, 35.09348452,\n",
       "       29.99111145, 32.16696212, 32.5466324 , 29.35144729, 31.97557447,\n",
       "       29.14216505, 28.60375228, 33.27376701, 32.28678221, 32.70561446,\n",
       "       31.30843328, 30.01197805, 32.32347658, 29.15902087, 33.91042464,\n",
       "       32.74766721, 33.47903767, 34.12940549, 31.56461381, 34.44958031,\n",
       "       33.30036678, 29.35558024, 33.99794233, 33.3293338 , 30.2978916 ,\n",
       "       31.4241864 , 32.36311525, 34.61701506, 32.03023331, 31.41948172,\n",
       "       30.89419347, 32.508051  , 34.7691147 , 31.73370163, 33.3687946 ,\n",
       "       32.1509131 , 32.34603101, 31.21296836, 28.90195873, 31.96458545,\n",
       "       34.79046967, 30.91855019, 31.0841594 , 33.82121587, 32.95120309,\n",
       "       30.20921418, 32.14232146, 32.22575701, 31.16525171, 30.98976689,\n",
       "       31.86034438, 32.57697932, 33.81340658, 31.74661525, 35.27207415,\n",
       "       29.07891997])"
      ]
     },
     "execution_count": 95,
     "metadata": {},
     "output_type": "execute_result"
    }
   ],
   "source": [
    "## prediction for the test data\n",
    "elastic_pred = elastic.predict(x_test)\n",
    "elastic_pred"
   ]
  },
  {
   "cell_type": "code",
   "execution_count": 96,
   "id": "36799869",
   "metadata": {},
   "outputs": [
    {
     "data": {
      "text/plain": [
       "array([31.93076461, 32.89925279, 32.68965549, 31.74550697, 32.98836724,\n",
       "       33.91299333, 33.41776043, 32.72078781, 31.98790062, 32.72490467,\n",
       "       33.30044153, 29.87165926, 34.12217082, 30.65936304, 32.72255437,\n",
       "       32.28333638, 32.84852051, 29.39040946, 35.0786389 , 33.86050655,\n",
       "       32.42586731, 33.31820617, 33.43805315, 32.91463826, 35.09348452,\n",
       "       29.99111145, 32.16696212, 32.5466324 , 29.35144729, 31.97557447,\n",
       "       29.14216505, 28.60375228, 33.27376701, 32.28678221, 32.70561446,\n",
       "       31.30843328, 30.01197805, 32.32347658, 29.15902087, 33.91042464,\n",
       "       32.74766721, 33.47903767, 34.12940549, 31.56461381, 34.44958031,\n",
       "       33.30036678, 29.35558024, 33.99794233, 33.3293338 , 30.2978916 ,\n",
       "       31.4241864 , 32.36311525, 34.61701506, 32.03023331, 31.41948172,\n",
       "       30.89419347, 32.508051  , 34.7691147 , 31.73370163, 33.3687946 ,\n",
       "       32.1509131 , 32.34603101, 31.21296836, 28.90195873, 31.96458545,\n",
       "       34.79046967, 30.91855019, 31.0841594 , 33.82121587, 32.95120309,\n",
       "       30.20921418, 32.14232146, 32.22575701, 31.16525171, 30.98976689,\n",
       "       31.86034438, 32.57697932, 33.81340658, 31.74661525, 35.27207415,\n",
       "       29.07891997])"
      ]
     },
     "execution_count": 96,
     "metadata": {},
     "output_type": "execute_result"
    }
   ],
   "source": [
    "## prediction for the test data\n",
    "elastic_pred = elastic.predict(x_test)\n",
    "elastic_pred"
   ]
  },
  {
   "cell_type": "code",
   "execution_count": 97,
   "id": "21a5de9f",
   "metadata": {},
   "outputs": [
    {
     "name": "stdout",
     "output_type": "stream",
     "text": [
      "8.346007590926806\n",
      "2.398764542534911\n",
      "2.888945757698958\n"
     ]
    }
   ],
   "source": [
    "## Performance Metrics\n",
    "from sklearn.metrics import mean_squared_error\n",
    "from sklearn.metrics import mean_absolute_error\n",
    "print(mean_squared_error(y_test, elastic_pred))\n",
    "print(mean_absolute_error(y_test, elastic_pred))\n",
    "print(np.sqrt(mean_squared_error(y_test, elastic_pred)))\n"
   ]
  },
  {
   "cell_type": "code",
   "execution_count": 98,
   "id": "8fed13d8",
   "metadata": {},
   "outputs": [
    {
     "name": "stdout",
     "output_type": "stream",
     "text": [
      "0.4481026043251145\n"
     ]
    }
   ],
   "source": [
    "# R square\n",
    "from sklearn.metrics import r2_score\n",
    "score = r2_score(y_test, elastic_pred)\n",
    "print(score)\n"
   ]
  },
  {
   "cell_type": "code",
   "execution_count": 99,
   "id": "1f18d733",
   "metadata": {},
   "outputs": [
    {
     "data": {
      "text/plain": [
       "0.3692601192287023"
      ]
     },
     "execution_count": 99,
     "metadata": {},
     "output_type": "execute_result"
    }
   ],
   "source": [
    "## Adjusted R Square\n",
    "#display adjusted R square\n",
    "1 - (1-score)*(len(y_test)-1)/(len(y_test)-x_test.shape[1]-1)"
   ]
  },
  {
   "cell_type": "code",
   "execution_count": 100,
   "id": "8b64e36c",
   "metadata": {},
   "outputs": [],
   "source": [
    "#assumptions of elastic net"
   ]
  },
  {
   "cell_type": "code",
   "execution_count": 101,
   "id": "96272f6f",
   "metadata": {},
   "outputs": [
    {
     "data": {
      "text/plain": [
       "Text(0, 0.5, 'Test Predicted Data')"
      ]
     },
     "execution_count": 101,
     "metadata": {},
     "output_type": "execute_result"
    },
    {
     "data": {
      "image/png": "[encoded data removed]",
      "text/plain": [
       "<Figure size 432x288 with 1 Axes>"
      ]
     },
     "metadata": {
      "needs_background": "light"
     },
     "output_type": "display_data"
    }
   ],
   "source": [
    "plt.scatter(y_test, elastic_pred)\n",
    "plt.xlabel(\"Test Truth Data\")\n",
    "plt.ylabel(\"Test Predicted Data\")"
   ]
  },
  {
   "cell_type": "code",
   "execution_count": null,
   "id": "254287b6",
   "metadata": {},
   "outputs": [],
   "source": []
  }
 ],
 "metadata": {
  "kernelspec": {
   "display_name": "Python 3 (ipykernel)",
   "language": "python",
   "name": "python3"
  },
  "language_info": {
   "codemirror_mode": {
    "name": "ipython",
    "version": 3
   },
   "file_extension": ".py",
   "mimetype": "text/x-python",
   "name": "python",
   "nbconvert_exporter": "python",
   "pygments_lexer": "ipython3",
   "version": "3.9.12"
  }
 },
 "nbformat": 4,
 "nbformat_minor": 5
}
